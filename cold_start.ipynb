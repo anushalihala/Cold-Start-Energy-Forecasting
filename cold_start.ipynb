{
 "cells": [
  {
   "cell_type": "code",
   "execution_count": 1,
   "metadata": {},
   "outputs": [],
   "source": [
    "%matplotlib inline\n",
    "\n",
    "# plotting\n",
    "import matplotlib as mpl\n",
    "mpl.style.use('ggplot')\n",
    "import matplotlib.pyplot as plt\n",
    "\n",
    "# math and data manipulation\n",
    "import numpy as np\n",
    "import pandas as pd\n",
    "\n",
    "# to handle paths\n",
    "from pathlib import Path\n",
    "\n",
    "# set random seeds \n",
    "import random\n",
    "from tensorflow import set_random_seed\n",
    "\n",
    "RANDOM_SEED = 2018\n",
    "random.seed(RANDOM_SEED)\n",
    "np.random.seed(RANDOM_SEED)\n",
    "set_random_seed(RANDOM_SEED)"
   ]
  },
  {
   "cell_type": "code",
   "execution_count": 2,
   "metadata": {},
   "outputs": [],
   "source": [
    "import warnings\n",
    "warnings.filterwarnings('ignore')"
   ]
  },
  {
   "cell_type": "markdown",
   "metadata": {},
   "source": [
    "## Load Files"
   ]
  },
  {
   "cell_type": "markdown",
   "metadata": {},
   "source": [
    "Load Training data"
   ]
  },
  {
   "cell_type": "code",
   "execution_count": 3,
   "metadata": {},
   "outputs": [
    {
     "data": {
      "text/html": [
       "<div>\n",
       "<style scoped>\n",
       "    .dataframe tbody tr th:only-of-type {\n",
       "        vertical-align: middle;\n",
       "    }\n",
       "\n",
       "    .dataframe tbody tr th {\n",
       "        vertical-align: top;\n",
       "    }\n",
       "\n",
       "    .dataframe thead th {\n",
       "        text-align: right;\n",
       "    }\n",
       "</style>\n",
       "<table border=\"1\" class=\"dataframe\">\n",
       "  <thead>\n",
       "    <tr style=\"text-align: right;\">\n",
       "      <th></th>\n",
       "      <th>series_id</th>\n",
       "      <th>timestamp</th>\n",
       "      <th>consumption</th>\n",
       "      <th>temperature</th>\n",
       "    </tr>\n",
       "  </thead>\n",
       "  <tbody>\n",
       "    <tr>\n",
       "      <th>0</th>\n",
       "      <td>103088</td>\n",
       "      <td>2014-12-24 00:00:00</td>\n",
       "      <td>101842.233424</td>\n",
       "      <td>NaN</td>\n",
       "    </tr>\n",
       "    <tr>\n",
       "      <th>1</th>\n",
       "      <td>103088</td>\n",
       "      <td>2014-12-24 01:00:00</td>\n",
       "      <td>105878.048906</td>\n",
       "      <td>NaN</td>\n",
       "    </tr>\n",
       "    <tr>\n",
       "      <th>2</th>\n",
       "      <td>103088</td>\n",
       "      <td>2014-12-24 02:00:00</td>\n",
       "      <td>91619.105008</td>\n",
       "      <td>NaN</td>\n",
       "    </tr>\n",
       "    <tr>\n",
       "      <th>3</th>\n",
       "      <td>103088</td>\n",
       "      <td>2014-12-24 03:00:00</td>\n",
       "      <td>94473.706203</td>\n",
       "      <td>NaN</td>\n",
       "    </tr>\n",
       "    <tr>\n",
       "      <th>4</th>\n",
       "      <td>103088</td>\n",
       "      <td>2014-12-24 04:00:00</td>\n",
       "      <td>96976.755526</td>\n",
       "      <td>NaN</td>\n",
       "    </tr>\n",
       "  </tbody>\n",
       "</table>\n",
       "</div>"
      ],
      "text/plain": [
       "   series_id           timestamp    consumption  temperature\n",
       "0     103088 2014-12-24 00:00:00  101842.233424          NaN\n",
       "1     103088 2014-12-24 01:00:00  105878.048906          NaN\n",
       "2     103088 2014-12-24 02:00:00   91619.105008          NaN\n",
       "3     103088 2014-12-24 03:00:00   94473.706203          NaN\n",
       "4     103088 2014-12-24 04:00:00   96976.755526          NaN"
      ]
     },
     "execution_count": 3,
     "metadata": {},
     "output_type": "execute_result"
    }
   ],
   "source": [
    "consumption_train = pd.read_csv('consumption_train.csv', index_col=0, parse_dates=['timestamp'])\n",
    "consumption_train.head()"
   ]
  },
  {
   "cell_type": "code",
   "execution_count": 4,
   "metadata": {},
   "outputs": [
    {
     "data": {
      "text/html": [
       "<div>\n",
       "<style scoped>\n",
       "    .dataframe tbody tr th:only-of-type {\n",
       "        vertical-align: middle;\n",
       "    }\n",
       "\n",
       "    .dataframe tbody tr th {\n",
       "        vertical-align: top;\n",
       "    }\n",
       "\n",
       "    .dataframe thead th {\n",
       "        text-align: right;\n",
       "    }\n",
       "</style>\n",
       "<table border=\"1\" class=\"dataframe\">\n",
       "  <thead>\n",
       "    <tr style=\"text-align: right;\">\n",
       "      <th></th>\n",
       "      <th>series_id</th>\n",
       "      <th>consumption</th>\n",
       "      <th>temperature</th>\n",
       "    </tr>\n",
       "  </thead>\n",
       "  <tbody>\n",
       "    <tr>\n",
       "      <th>count</th>\n",
       "      <td>509376.000000</td>\n",
       "      <td>5.093760e+05</td>\n",
       "      <td>280687.000000</td>\n",
       "    </tr>\n",
       "    <tr>\n",
       "      <th>mean</th>\n",
       "      <td>101851.234828</td>\n",
       "      <td>1.076238e+05</td>\n",
       "      <td>15.188679</td>\n",
       "    </tr>\n",
       "    <tr>\n",
       "      <th>std</th>\n",
       "      <td>1020.487674</td>\n",
       "      <td>1.626611e+05</td>\n",
       "      <td>8.987142</td>\n",
       "    </tr>\n",
       "    <tr>\n",
       "      <th>min</th>\n",
       "      <td>100003.000000</td>\n",
       "      <td>0.000000e+00</td>\n",
       "      <td>-13.466667</td>\n",
       "    </tr>\n",
       "    <tr>\n",
       "      <th>25%</th>\n",
       "      <td>100998.000000</td>\n",
       "      <td>1.542092e+04</td>\n",
       "      <td>8.451190</td>\n",
       "    </tr>\n",
       "    <tr>\n",
       "      <th>50%</th>\n",
       "      <td>101884.500000</td>\n",
       "      <td>4.986205e+04</td>\n",
       "      <td>15.163333</td>\n",
       "    </tr>\n",
       "    <tr>\n",
       "      <th>75%</th>\n",
       "      <td>102697.000000</td>\n",
       "      <td>1.351661e+05</td>\n",
       "      <td>21.800000</td>\n",
       "    </tr>\n",
       "    <tr>\n",
       "      <th>max</th>\n",
       "      <td>103634.000000</td>\n",
       "      <td>2.085109e+06</td>\n",
       "      <td>44.350000</td>\n",
       "    </tr>\n",
       "  </tbody>\n",
       "</table>\n",
       "</div>"
      ],
      "text/plain": [
       "           series_id   consumption    temperature\n",
       "count  509376.000000  5.093760e+05  280687.000000\n",
       "mean   101851.234828  1.076238e+05      15.188679\n",
       "std      1020.487674  1.626611e+05       8.987142\n",
       "min    100003.000000  0.000000e+00     -13.466667\n",
       "25%    100998.000000  1.542092e+04       8.451190\n",
       "50%    101884.500000  4.986205e+04      15.163333\n",
       "75%    102697.000000  1.351661e+05      21.800000\n",
       "max    103634.000000  2.085109e+06      44.350000"
      ]
     },
     "execution_count": 4,
     "metadata": {},
     "output_type": "execute_result"
    }
   ],
   "source": [
    "consumption_train.describe()"
   ]
  },
  {
   "cell_type": "code",
   "execution_count": 5,
   "metadata": {},
   "outputs": [
    {
     "name": "stdout",
     "output_type": "stream",
     "text": [
      "<class 'pandas.core.frame.DataFrame'>\n",
      "Int64Index: 509376 entries, 0 to 509375\n",
      "Data columns (total 4 columns):\n",
      "series_id      509376 non-null int64\n",
      "timestamp      509376 non-null datetime64[ns]\n",
      "consumption    509376 non-null float64\n",
      "temperature    280687 non-null float64\n",
      "dtypes: datetime64[ns](1), float64(2), int64(1)\n",
      "memory usage: 19.4 MB\n"
     ]
    }
   ],
   "source": [
    "consumption_train.info()"
   ]
  },
  {
   "cell_type": "markdown",
   "metadata": {},
   "source": [
    "Load Testing data"
   ]
  },
  {
   "cell_type": "code",
   "execution_count": 6,
   "metadata": {},
   "outputs": [
    {
     "data": {
      "text/html": [
       "<div>\n",
       "<style scoped>\n",
       "    .dataframe tbody tr th:only-of-type {\n",
       "        vertical-align: middle;\n",
       "    }\n",
       "\n",
       "    .dataframe tbody tr th {\n",
       "        vertical-align: top;\n",
       "    }\n",
       "\n",
       "    .dataframe thead th {\n",
       "        text-align: right;\n",
       "    }\n",
       "</style>\n",
       "<table border=\"1\" class=\"dataframe\">\n",
       "  <thead>\n",
       "    <tr style=\"text-align: right;\">\n",
       "      <th></th>\n",
       "      <th>series_id</th>\n",
       "      <th>timestamp</th>\n",
       "      <th>consumption</th>\n",
       "      <th>temperature</th>\n",
       "    </tr>\n",
       "  </thead>\n",
       "  <tbody>\n",
       "    <tr>\n",
       "      <th>0</th>\n",
       "      <td>102781</td>\n",
       "      <td>2013-02-27 00:00:00</td>\n",
       "      <td>15295.740389</td>\n",
       "      <td>17.00</td>\n",
       "    </tr>\n",
       "    <tr>\n",
       "      <th>1</th>\n",
       "      <td>102781</td>\n",
       "      <td>2013-02-27 01:00:00</td>\n",
       "      <td>15163.209562</td>\n",
       "      <td>18.25</td>\n",
       "    </tr>\n",
       "    <tr>\n",
       "      <th>2</th>\n",
       "      <td>102781</td>\n",
       "      <td>2013-02-27 02:00:00</td>\n",
       "      <td>15022.264079</td>\n",
       "      <td>18.00</td>\n",
       "    </tr>\n",
       "    <tr>\n",
       "      <th>3</th>\n",
       "      <td>102781</td>\n",
       "      <td>2013-02-27 03:00:00</td>\n",
       "      <td>15370.420458</td>\n",
       "      <td>17.00</td>\n",
       "    </tr>\n",
       "    <tr>\n",
       "      <th>4</th>\n",
       "      <td>102781</td>\n",
       "      <td>2013-02-27 04:00:00</td>\n",
       "      <td>15303.103213</td>\n",
       "      <td>16.90</td>\n",
       "    </tr>\n",
       "  </tbody>\n",
       "</table>\n",
       "</div>"
      ],
      "text/plain": [
       "   series_id           timestamp   consumption  temperature\n",
       "0     102781 2013-02-27 00:00:00  15295.740389        17.00\n",
       "1     102781 2013-02-27 01:00:00  15163.209562        18.25\n",
       "2     102781 2013-02-27 02:00:00  15022.264079        18.00\n",
       "3     102781 2013-02-27 03:00:00  15370.420458        17.00\n",
       "4     102781 2013-02-27 04:00:00  15303.103213        16.90"
      ]
     },
     "execution_count": 6,
     "metadata": {},
     "output_type": "execute_result"
    }
   ],
   "source": [
    "cold_start_test = pd.read_csv('cold_start_test.csv', index_col=0, parse_dates=['timestamp'])\n",
    "cold_start_test.head()"
   ]
  },
  {
   "cell_type": "code",
   "execution_count": 7,
   "metadata": {},
   "outputs": [
    {
     "data": {
      "text/html": [
       "<div>\n",
       "<style scoped>\n",
       "    .dataframe tbody tr th:only-of-type {\n",
       "        vertical-align: middle;\n",
       "    }\n",
       "\n",
       "    .dataframe tbody tr th {\n",
       "        vertical-align: top;\n",
       "    }\n",
       "\n",
       "    .dataframe thead th {\n",
       "        text-align: right;\n",
       "    }\n",
       "</style>\n",
       "<table border=\"1\" class=\"dataframe\">\n",
       "  <thead>\n",
       "    <tr style=\"text-align: right;\">\n",
       "      <th></th>\n",
       "      <th>series_id</th>\n",
       "      <th>consumption</th>\n",
       "      <th>temperature</th>\n",
       "    </tr>\n",
       "  </thead>\n",
       "  <tbody>\n",
       "    <tr>\n",
       "      <th>count</th>\n",
       "      <td>111984.000000</td>\n",
       "      <td>1.119840e+05</td>\n",
       "      <td>67068.000000</td>\n",
       "    </tr>\n",
       "    <tr>\n",
       "      <th>mean</th>\n",
       "      <td>101881.195456</td>\n",
       "      <td>1.585893e+05</td>\n",
       "      <td>15.981019</td>\n",
       "    </tr>\n",
       "    <tr>\n",
       "      <th>std</th>\n",
       "      <td>1095.489531</td>\n",
       "      <td>5.282630e+05</td>\n",
       "      <td>7.796996</td>\n",
       "    </tr>\n",
       "    <tr>\n",
       "      <th>min</th>\n",
       "      <td>100004.000000</td>\n",
       "      <td>0.000000e+00</td>\n",
       "      <td>-12.212500</td>\n",
       "    </tr>\n",
       "    <tr>\n",
       "      <th>25%</th>\n",
       "      <td>100876.000000</td>\n",
       "      <td>1.417107e+04</td>\n",
       "      <td>10.750000</td>\n",
       "    </tr>\n",
       "    <tr>\n",
       "      <th>50%</th>\n",
       "      <td>101939.500000</td>\n",
       "      <td>3.869147e+04</td>\n",
       "      <td>16.000000</td>\n",
       "    </tr>\n",
       "    <tr>\n",
       "      <th>75%</th>\n",
       "      <td>102920.000000</td>\n",
       "      <td>1.067592e+05</td>\n",
       "      <td>21.600000</td>\n",
       "    </tr>\n",
       "    <tr>\n",
       "      <th>max</th>\n",
       "      <td>103629.000000</td>\n",
       "      <td>5.366167e+06</td>\n",
       "      <td>42.000000</td>\n",
       "    </tr>\n",
       "  </tbody>\n",
       "</table>\n",
       "</div>"
      ],
      "text/plain": [
       "           series_id   consumption   temperature\n",
       "count  111984.000000  1.119840e+05  67068.000000\n",
       "mean   101881.195456  1.585893e+05     15.981019\n",
       "std      1095.489531  5.282630e+05      7.796996\n",
       "min    100004.000000  0.000000e+00    -12.212500\n",
       "25%    100876.000000  1.417107e+04     10.750000\n",
       "50%    101939.500000  3.869147e+04     16.000000\n",
       "75%    102920.000000  1.067592e+05     21.600000\n",
       "max    103629.000000  5.366167e+06     42.000000"
      ]
     },
     "execution_count": 7,
     "metadata": {},
     "output_type": "execute_result"
    }
   ],
   "source": [
    "cold_start_test.describe()"
   ]
  },
  {
   "cell_type": "code",
   "execution_count": 8,
   "metadata": {},
   "outputs": [
    {
     "name": "stdout",
     "output_type": "stream",
     "text": [
      "<class 'pandas.core.frame.DataFrame'>\n",
      "Int64Index: 111984 entries, 0 to 111983\n",
      "Data columns (total 4 columns):\n",
      "series_id      111984 non-null int64\n",
      "timestamp      111984 non-null datetime64[ns]\n",
      "consumption    111984 non-null float64\n",
      "temperature    67068 non-null float64\n",
      "dtypes: datetime64[ns](1), float64(2), int64(1)\n",
      "memory usage: 4.3 MB\n"
     ]
    }
   ],
   "source": [
    "cold_start_test.info()"
   ]
  },
  {
   "cell_type": "markdown",
   "metadata": {},
   "source": [
    "Loading Submission data"
   ]
  },
  {
   "cell_type": "code",
   "execution_count": 9,
   "metadata": {},
   "outputs": [
    {
     "data": {
      "text/html": [
       "<div>\n",
       "<style scoped>\n",
       "    .dataframe tbody tr th:only-of-type {\n",
       "        vertical-align: middle;\n",
       "    }\n",
       "\n",
       "    .dataframe tbody tr th {\n",
       "        vertical-align: top;\n",
       "    }\n",
       "\n",
       "    .dataframe thead th {\n",
       "        text-align: right;\n",
       "    }\n",
       "</style>\n",
       "<table border=\"1\" class=\"dataframe\">\n",
       "  <thead>\n",
       "    <tr style=\"text-align: right;\">\n",
       "      <th></th>\n",
       "      <th>series_id</th>\n",
       "      <th>timestamp</th>\n",
       "      <th>temperature</th>\n",
       "      <th>consumption</th>\n",
       "      <th>prediction_window</th>\n",
       "    </tr>\n",
       "    <tr>\n",
       "      <th>pred_id</th>\n",
       "      <th></th>\n",
       "      <th></th>\n",
       "      <th></th>\n",
       "      <th></th>\n",
       "      <th></th>\n",
       "    </tr>\n",
       "  </thead>\n",
       "  <tbody>\n",
       "    <tr>\n",
       "      <th>0</th>\n",
       "      <td>102781</td>\n",
       "      <td>2013-03-03</td>\n",
       "      <td>19.931250</td>\n",
       "      <td>0.0</td>\n",
       "      <td>daily</td>\n",
       "    </tr>\n",
       "    <tr>\n",
       "      <th>1</th>\n",
       "      <td>102781</td>\n",
       "      <td>2013-03-04</td>\n",
       "      <td>20.034375</td>\n",
       "      <td>0.0</td>\n",
       "      <td>daily</td>\n",
       "    </tr>\n",
       "    <tr>\n",
       "      <th>2</th>\n",
       "      <td>102781</td>\n",
       "      <td>2013-03-05</td>\n",
       "      <td>19.189583</td>\n",
       "      <td>0.0</td>\n",
       "      <td>daily</td>\n",
       "    </tr>\n",
       "    <tr>\n",
       "      <th>3</th>\n",
       "      <td>102781</td>\n",
       "      <td>2013-03-06</td>\n",
       "      <td>18.397917</td>\n",
       "      <td>0.0</td>\n",
       "      <td>daily</td>\n",
       "    </tr>\n",
       "    <tr>\n",
       "      <th>4</th>\n",
       "      <td>102781</td>\n",
       "      <td>2013-03-07</td>\n",
       "      <td>20.762500</td>\n",
       "      <td>0.0</td>\n",
       "      <td>daily</td>\n",
       "    </tr>\n",
       "  </tbody>\n",
       "</table>\n",
       "</div>"
      ],
      "text/plain": [
       "         series_id  timestamp  temperature  consumption prediction_window\n",
       "pred_id                                                                  \n",
       "0           102781 2013-03-03    19.931250          0.0             daily\n",
       "1           102781 2013-03-04    20.034375          0.0             daily\n",
       "2           102781 2013-03-05    19.189583          0.0             daily\n",
       "3           102781 2013-03-06    18.397917          0.0             daily\n",
       "4           102781 2013-03-07    20.762500          0.0             daily"
      ]
     },
     "execution_count": 9,
     "metadata": {},
     "output_type": "execute_result"
    }
   ],
   "source": [
    "submission_format = pd.read_csv('submission_format.csv', index_col='pred_id', parse_dates=['timestamp'])\n",
    "submission_format.head()"
   ]
  },
  {
   "cell_type": "code",
   "execution_count": 10,
   "metadata": {},
   "outputs": [
    {
     "data": {
      "text/html": [
       "<div>\n",
       "<style scoped>\n",
       "    .dataframe tbody tr th:only-of-type {\n",
       "        vertical-align: middle;\n",
       "    }\n",
       "\n",
       "    .dataframe tbody tr th {\n",
       "        vertical-align: top;\n",
       "    }\n",
       "\n",
       "    .dataframe thead th {\n",
       "        text-align: right;\n",
       "    }\n",
       "</style>\n",
       "<table border=\"1\" class=\"dataframe\">\n",
       "  <thead>\n",
       "    <tr style=\"text-align: right;\">\n",
       "      <th></th>\n",
       "      <th>series_id</th>\n",
       "      <th>temperature</th>\n",
       "      <th>consumption</th>\n",
       "    </tr>\n",
       "  </thead>\n",
       "  <tbody>\n",
       "    <tr>\n",
       "      <th>count</th>\n",
       "      <td>7529.000000</td>\n",
       "      <td>4579.000000</td>\n",
       "      <td>7529.0</td>\n",
       "    </tr>\n",
       "    <tr>\n",
       "      <th>mean</th>\n",
       "      <td>101878.964670</td>\n",
       "      <td>16.720556</td>\n",
       "      <td>0.0</td>\n",
       "    </tr>\n",
       "    <tr>\n",
       "      <th>std</th>\n",
       "      <td>1070.515261</td>\n",
       "      <td>7.613953</td>\n",
       "      <td>0.0</td>\n",
       "    </tr>\n",
       "    <tr>\n",
       "      <th>min</th>\n",
       "      <td>100004.000000</td>\n",
       "      <td>-9.000000</td>\n",
       "      <td>0.0</td>\n",
       "    </tr>\n",
       "    <tr>\n",
       "      <th>25%</th>\n",
       "      <td>100882.000000</td>\n",
       "      <td>11.512500</td>\n",
       "      <td>0.0</td>\n",
       "    </tr>\n",
       "    <tr>\n",
       "      <th>50%</th>\n",
       "      <td>101947.000000</td>\n",
       "      <td>16.645833</td>\n",
       "      <td>0.0</td>\n",
       "    </tr>\n",
       "    <tr>\n",
       "      <th>75%</th>\n",
       "      <td>102890.000000</td>\n",
       "      <td>22.000000</td>\n",
       "      <td>0.0</td>\n",
       "    </tr>\n",
       "    <tr>\n",
       "      <th>max</th>\n",
       "      <td>103629.000000</td>\n",
       "      <td>38.727273</td>\n",
       "      <td>0.0</td>\n",
       "    </tr>\n",
       "  </tbody>\n",
       "</table>\n",
       "</div>"
      ],
      "text/plain": [
       "           series_id  temperature  consumption\n",
       "count    7529.000000  4579.000000       7529.0\n",
       "mean   101878.964670    16.720556          0.0\n",
       "std      1070.515261     7.613953          0.0\n",
       "min    100004.000000    -9.000000          0.0\n",
       "25%    100882.000000    11.512500          0.0\n",
       "50%    101947.000000    16.645833          0.0\n",
       "75%    102890.000000    22.000000          0.0\n",
       "max    103629.000000    38.727273          0.0"
      ]
     },
     "execution_count": 10,
     "metadata": {},
     "output_type": "execute_result"
    }
   ],
   "source": [
    "submission_format.describe()"
   ]
  },
  {
   "cell_type": "code",
   "execution_count": 11,
   "metadata": {},
   "outputs": [
    {
     "name": "stdout",
     "output_type": "stream",
     "text": [
      "<class 'pandas.core.frame.DataFrame'>\n",
      "Int64Index: 7529 entries, 0 to 7528\n",
      "Data columns (total 5 columns):\n",
      "series_id            7529 non-null int64\n",
      "timestamp            7529 non-null datetime64[ns]\n",
      "temperature          4579 non-null float64\n",
      "consumption          7529 non-null float64\n",
      "prediction_window    7529 non-null object\n",
      "dtypes: datetime64[ns](1), float64(2), int64(1), object(1)\n",
      "memory usage: 352.9+ KB\n"
     ]
    }
   ],
   "source": [
    "submission_format.info()"
   ]
  },
  {
   "cell_type": "markdown",
   "metadata": {},
   "source": [
    "## Training Data"
   ]
  },
  {
   "cell_type": "code",
   "execution_count": 12,
   "metadata": {},
   "outputs": [
    {
     "name": "stdout",
     "output_type": "stream",
     "text": [
      "There are 758 training series totaling 21224 days (509376 hours) of consumption data.\n"
     ]
    }
   ],
   "source": [
    "def describe_training_data(train_df):\n",
    "    num_training_series = train_df.series_id.nunique()\n",
    "    num_training_days = num_training_series * 28\n",
    "    num_training_hours = num_training_days * 24\n",
    "    assert num_training_hours == train_df.shape[0]\n",
    "    \n",
    "    desc = f'There are {num_training_series} training ' \\\n",
    "           f'series totaling {num_training_days} days ' \\\n",
    "           f'({num_training_hours} hours) of consumption data.'\n",
    "    \n",
    "    print(desc)\n",
    "    \n",
    "describe_training_data(consumption_train)"
   ]
  },
  {
   "cell_type": "markdown",
   "metadata": {},
   "source": [
    "#### choose subset of series for training"
   ]
  },
  {
   "cell_type": "code",
   "execution_count": 13,
   "metadata": {},
   "outputs": [
    {
     "name": "stdout",
     "output_type": "stream",
     "text": [
      "There are 37 training series totaling 1036 days (24864 hours) of consumption data.\n"
     ]
    }
   ],
   "source": [
    "FRAC_TO_USE = 0.05\n",
    "\n",
    "rng = np.random.RandomState(seed=RANDOM_SEED)\n",
    "series_ids = consumption_train.series_id.unique()\n",
    "training_and_validation_ids = np.random.choice(series_ids, size=int(len(series_ids)*FRAC_TO_USE), replace=False)\n",
    "\n",
    "# reduce training data to series subset\n",
    "training_and_validation_data = consumption_train[consumption_train.series_id.isin(training_and_validation_ids)]\n",
    "\n",
    "# describe the reduced set\n",
    "describe_training_data(training_and_validation_data)"
   ]
  },
  {
   "cell_type": "code",
   "execution_count": 14,
   "metadata": {},
   "outputs": [
    {
     "data": {
      "text/html": [
       "<div>\n",
       "<style scoped>\n",
       "    .dataframe tbody tr th:only-of-type {\n",
       "        vertical-align: middle;\n",
       "    }\n",
       "\n",
       "    .dataframe tbody tr th {\n",
       "        vertical-align: top;\n",
       "    }\n",
       "\n",
       "    .dataframe thead th {\n",
       "        text-align: right;\n",
       "    }\n",
       "</style>\n",
       "<table border=\"1\" class=\"dataframe\">\n",
       "  <thead>\n",
       "    <tr style=\"text-align: right;\">\n",
       "      <th></th>\n",
       "      <th>series_id</th>\n",
       "      <th>timestamp</th>\n",
       "      <th>consumption</th>\n",
       "      <th>temperature</th>\n",
       "    </tr>\n",
       "  </thead>\n",
       "  <tbody>\n",
       "    <tr>\n",
       "      <th>21504</th>\n",
       "      <td>103432</td>\n",
       "      <td>2015-08-26 00:00:00</td>\n",
       "      <td>138194.079984</td>\n",
       "      <td>NaN</td>\n",
       "    </tr>\n",
       "    <tr>\n",
       "      <th>21505</th>\n",
       "      <td>103432</td>\n",
       "      <td>2015-08-26 01:00:00</td>\n",
       "      <td>123089.088496</td>\n",
       "      <td>NaN</td>\n",
       "    </tr>\n",
       "    <tr>\n",
       "      <th>21506</th>\n",
       "      <td>103432</td>\n",
       "      <td>2015-08-26 02:00:00</td>\n",
       "      <td>123193.557517</td>\n",
       "      <td>NaN</td>\n",
       "    </tr>\n",
       "    <tr>\n",
       "      <th>21507</th>\n",
       "      <td>103432</td>\n",
       "      <td>2015-08-26 03:00:00</td>\n",
       "      <td>129756.670174</td>\n",
       "      <td>NaN</td>\n",
       "    </tr>\n",
       "    <tr>\n",
       "      <th>21508</th>\n",
       "      <td>103432</td>\n",
       "      <td>2015-08-26 04:00:00</td>\n",
       "      <td>127040.475610</td>\n",
       "      <td>NaN</td>\n",
       "    </tr>\n",
       "  </tbody>\n",
       "</table>\n",
       "</div>"
      ],
      "text/plain": [
       "       series_id           timestamp    consumption  temperature\n",
       "21504     103432 2015-08-26 00:00:00  138194.079984          NaN\n",
       "21505     103432 2015-08-26 01:00:00  123089.088496          NaN\n",
       "21506     103432 2015-08-26 02:00:00  123193.557517          NaN\n",
       "21507     103432 2015-08-26 03:00:00  129756.670174          NaN\n",
       "21508     103432 2015-08-26 04:00:00  127040.475610          NaN"
      ]
     },
     "execution_count": 14,
     "metadata": {},
     "output_type": "execute_result"
    }
   ],
   "source": [
    "training_and_validation_data.head()"
   ]
  },
  {
   "cell_type": "markdown",
   "metadata": {},
   "source": [
    "#### split into training and validation"
   ]
  },
  {
   "cell_type": "code",
   "execution_count": 15,
   "metadata": {},
   "outputs": [],
   "source": [
    "TRAIN_VALID_SPLIT = 0.2"
   ]
  },
  {
   "cell_type": "markdown",
   "metadata": {},
   "source": [
    "-------------------------------------------- 1 validation set -------------------------------------------------"
   ]
  },
  {
   "cell_type": "markdown",
   "metadata": {},
   "source": [
    "https://stackoverflow.com/questions/50491630/randomly-split-a-numpy-array"
   ]
  },
  {
   "cell_type": "code",
   "execution_count": 16,
   "metadata": {},
   "outputs": [],
   "source": [
    "validation_ids = np.random.choice(training_and_validation_ids, int(len(training_and_validation_ids)*TRAIN_VALID_SPLIT), replace=False)\n",
    "training_ids = list(set(training_and_validation_ids) - set(validation_ids))\n",
    "\n",
    "training_data = training_and_validation_data[training_and_validation_data.series_id.isin(training_ids)]\n",
    "validation_data = training_and_validation_data[training_and_validation_data.series_id.isin(validation_ids)]"
   ]
  },
  {
   "cell_type": "code",
   "execution_count": 17,
   "metadata": {},
   "outputs": [
    {
     "name": "stdout",
     "output_type": "stream",
     "text": [
      "There are 30 training series totaling 840 days (20160 hours) of consumption data.\n",
      "There are 7 training series totaling 196 days (4704 hours) of consumption data.\n"
     ]
    }
   ],
   "source": [
    "describe_training_data(training_data)\n",
    "describe_training_data(validation_data)"
   ]
  },
  {
   "cell_type": "code",
   "execution_count": 18,
   "metadata": {},
   "outputs": [
    {
     "name": "stdout",
     "output_type": "stream",
     "text": [
      "30\n",
      "7\n"
     ]
    }
   ],
   "source": [
    "#TESTING\n",
    "print(len(training_data.groupby('series_id').count()))\n",
    "print(len(validation_data.groupby('series_id').count()))"
   ]
  },
  {
   "cell_type": "markdown",
   "metadata": {},
   "source": [
    "--------------------------------------------------fin---------------------------------------------------------"
   ]
  },
  {
   "cell_type": "markdown",
   "metadata": {},
   "source": [
    "#### KFold cross validation"
   ]
  },
  {
   "cell_type": "code",
   "execution_count": 19,
   "metadata": {},
   "outputs": [
    {
     "data": {
      "text/plain": [
       "array([103595, 103370, 102101, 101558, 100685, 102687, 103437, 100450,\n",
       "       100807, 100142, 101591, 102345, 101075, 100399, 101967, 101926,\n",
       "       102993, 102640, 100244, 100665, 100139, 103432, 101763, 103298,\n",
       "       101660, 102162, 103159, 100040, 100425, 102478, 101523, 101203,\n",
       "       100801, 102997, 101183, 103105, 102892], dtype=int64)"
      ]
     },
     "execution_count": 19,
     "metadata": {},
     "output_type": "execute_result"
    }
   ],
   "source": [
    "training_and_validation_ids"
   ]
  },
  {
   "cell_type": "code",
   "execution_count": 20,
   "metadata": {},
   "outputs": [
    {
     "data": {
      "text/plain": [
       "5"
      ]
     },
     "execution_count": 20,
     "metadata": {},
     "output_type": "execute_result"
    }
   ],
   "source": [
    "k = int(1/TRAIN_VALID_SPLIT)\n",
    "k"
   ]
  },
  {
   "cell_type": "code",
   "execution_count": 21,
   "metadata": {},
   "outputs": [],
   "source": [
    "cv_ids = []\n",
    "from sklearn.model_selection import KFold\n",
    "kf = KFold(n_splits=k, random_state=RANDOM_SEED)\n",
    "for train_ids, valid_ids in kf.split(training_and_validation_ids):\n",
    "    cv_ids.append((training_and_validation_ids[train_ids],training_and_validation_ids[valid_ids]))"
   ]
  },
  {
   "cell_type": "markdown",
   "metadata": {},
   "source": [
    "## Preprocessing Data"
   ]
  },
  {
   "cell_type": "code",
   "execution_count": 22,
   "metadata": {},
   "outputs": [],
   "source": [
    "from sklearn.preprocessing import MinMaxScaler"
   ]
  },
  {
   "cell_type": "code",
   "execution_count": 23,
   "metadata": {},
   "outputs": [],
   "source": [
    "def create_lagged_features(df, lag=1):\n",
    "    if not type(df) == pd.DataFrame:\n",
    "        df = pd.DataFrame(df, columns=['consumption'])\n",
    "    \n",
    "    def _rename_lag(ser, j):\n",
    "        ser.name = ser.name + f'_{j}'\n",
    "        return ser\n",
    "    \n",
    "    old_columns = df.columns\n",
    "        \n",
    "    # add a column lagged by `i` steps\n",
    "    for i in range(1, lag + 1):\n",
    "        df = df.join(df.consumption.shift(i).pipe(_rename_lag, i))\n",
    "    \n",
    "    added_features = list( set(df.columns) - set(old_columns))\n",
    "    \n",
    "    return df, added_features"
   ]
  },
  {
   "cell_type": "code",
   "execution_count": 24,
   "metadata": {},
   "outputs": [],
   "source": [
    "def prepare_data(df, feature_generator):\n",
    "\n",
    "    # scale training data\n",
    "    consumption_scaler = MinMaxScaler(feature_range=(-1, 1))\n",
    "    df['consumption'] = consumption_scaler.fit_transform(df['consumption'].values.reshape(-1, 1))\n",
    "\n",
    "    # convert consumption series to lagged features\n",
    "    df_extended, added_features = feature_generator(df)\n",
    "    #TESTING\n",
    "    #print(df_extended.head())\n",
    "    #print(added_features)\n",
    "    \n",
    "    #handle missing values\n",
    "    df_extended = df_extended.loc[ df_extended[added_features].dropna().index ]\n",
    "    #print(df_extended.info()) #TESTING\n",
    "\n",
    "    # X, y format taking the first column (original time series) to be the y\n",
    "    X = df_extended[added_features].values\n",
    "    y = df_extended.consumption\n",
    "    \n",
    "    # keras expects 3 dimensional X\n",
    "    X = X.reshape(X.shape[0], 1, X.shape[1])\n",
    "    \n",
    "    return X, y, consumption_scaler"
   ]
  },
  {
   "cell_type": "code",
   "execution_count": 25,
   "metadata": {},
   "outputs": [],
   "source": [
    "#TESTING\n",
    "X, y, consumption_scaler = prepare_data(training_data[training_data.series_id == training_data.iloc[0]['series_id']], lambda x: create_lagged_features(x,lag=24))"
   ]
  },
  {
   "cell_type": "markdown",
   "metadata": {},
   "source": [
    "## Training "
   ]
  },
  {
   "cell_type": "code",
   "execution_count": 26,
   "metadata": {},
   "outputs": [],
   "source": [
    "# progress bar\n",
    "from tqdm import tqdm"
   ]
  },
  {
   "cell_type": "markdown",
   "metadata": {},
   "source": [
    "https://github.com/tqdm/tqdm/issues/285"
   ]
  },
  {
   "cell_type": "code",
   "execution_count": 27,
   "metadata": {},
   "outputs": [],
   "source": [
    "def train_model(model, training_data, epochs=3, batch_size=1, desc=\"Learning Consumption Trends\", lag=24):\n",
    "    for i in tqdm(range(num_passes_through_data), \n",
    "                  total=num_passes_through_data, \n",
    "                  desc=desc):\n",
    "\n",
    "        # reset the LSTM state for training on each series\n",
    "        for ser_id, ser_data in training_data.groupby('series_id'):\n",
    "\n",
    "            # prepare the data\n",
    "            X, y, consumption_scaler = prepare_data(ser_data, lambda x: create_lagged_features(x,lag=lag))\n",
    "\n",
    "            # fit the model: note that we don't shuffle batches (it would ruin the sequence)\n",
    "            # and that we reset states only after an entire X has been fit, instead of after\n",
    "            # each (size 1) batch, as is the case when stateful=False\n",
    "\n",
    "            model.fit(X, y, epochs=1, batch_size=batch_size, verbose=0, shuffle=False)\n",
    "            model.reset_states()"
   ]
  },
  {
   "cell_type": "markdown",
   "metadata": {},
   "source": [
    "## Forecasting"
   ]
  },
  {
   "cell_type": "markdown",
   "metadata": {},
   "source": [
    "### Training data to cold start data"
   ]
  },
  {
   "cell_type": "code",
   "execution_count": 28,
   "metadata": {},
   "outputs": [],
   "source": [
    "def train_series_to_cold_start(series_df, cold_start_days, prediction_window, window_to_num_preds=None, no_timestamp=['daily','weekly']):\n",
    "    if window_to_num_preds is None:\n",
    "        window_to_num_preds = {'hourly':np.arange(24),\n",
    "                              'daily':np.repeat(np.arange(7),24),\n",
    "                              'weekly':np.repeat(np.arange(2),24*7)}\n",
    "    lengths={}\n",
    "    for k,v in window_to_num_preds.items():\n",
    "        lengths[k] = len(v) \n",
    "    \n",
    "    cold_start_df = series_df.iloc[:cold_start_days*24]\n",
    "    \n",
    "    prediction_df = series_df.iloc[cold_start_days*24:]\n",
    "    prediction_df['groups'] = pd.Series(window_to_num_preds[prediction_window], index=prediction_df.index[:lengths[prediction_window]])\n",
    "    prediction_df = prediction_df.groupby('groups').agg({'series_id':'first','timestamp':'last','temperature':'mean','consumption':'sum'})\n",
    "    \n",
    "    if prediction_window in no_timestamp:\n",
    "        prediction_df['timestamp'] = prediction_df['timestamp'].apply(pd.Timestamp.floor, args=('D'))\n",
    "    \n",
    "    prediction_df['prediction_window'] = prediction_window\n",
    "    \n",
    "    return cold_start_df,prediction_df"
   ]
  },
  {
   "cell_type": "code",
   "execution_count": 29,
   "metadata": {},
   "outputs": [],
   "source": [
    "def get_cold_start_and_prediction_data(validation_data, prediction_window, cold_start_days=14):\n",
    "    shuffled_ids = validation_data['series_id'].unique()\n",
    "    np.random.shuffle(shuffled_ids)\n",
    "    cold_start_data = pd.DataFrame()\n",
    "    prediction_data = pd.DataFrame()\n",
    "    for i in shuffled_ids:\n",
    "        cold_start_df,prediction_df = train_series_to_cold_start(validation_data[validation_data.series_id==i],cold_start_days,prediction_window)\n",
    "        cold_start_data = cold_start_data.append(cold_start_df)\n",
    "        prediction_data = prediction_data.append(prediction_df)\n",
    "\n",
    "    prediction_data.index = np.arange(len(prediction_data))\n",
    "    \n",
    "    return cold_start_data, prediction_data"
   ]
  },
  {
   "cell_type": "markdown",
   "metadata": {},
   "source": [
    "## Error Metric "
   ]
  },
  {
   "cell_type": "code",
   "execution_count": 30,
   "metadata": {},
   "outputs": [],
   "source": [
    "def calc_nmae(y_df,preds_df): \n",
    "    w = {'hourly': 24/24,\n",
    "        'daily':24/7,\n",
    "        'weekly':24/2}\n",
    "    \n",
    "    preds_df['w'] = preds_df.prediction_window.map(w)\n",
    "    mean_series = y_df.groupby('series_id').consumption.mean().rename('m')\n",
    "    preds_df = preds_df.join(mean_series,on='series_id')\n",
    "    preds_df['c'] = preds_df.w/preds_df.m\n",
    "    \n",
    "    nmae = (np.abs(y_df.consumption-preds_df.consumption)*preds_df.c).sum()/len(preds_df)\n",
    "    return nmae"
   ]
  },
  {
   "cell_type": "markdown",
   "metadata": {},
   "source": [
    "# Base Model"
   ]
  },
  {
   "cell_type": "code",
   "execution_count": 31,
   "metadata": {},
   "outputs": [
    {
     "name": "stderr",
     "output_type": "stream",
     "text": [
      "Using TensorFlow backend.\n"
     ]
    }
   ],
   "source": [
    "# modeling\n",
    "import keras\n",
    "from keras.models import Sequential\n",
    "from keras.layers import LSTM, Dense"
   ]
  },
  {
   "cell_type": "code",
   "execution_count": 59,
   "metadata": {},
   "outputs": [],
   "source": [
    "# lag of 24 to simulate smallest cold start window. Our series\n",
    "# will be converted to a num_timesteps x lag size matrix\n",
    "\n",
    "def get_base_model(num_neurons=24,lag=24):\n",
    "    batch_size = 1  # this forces the lstm to step through each time-step one at a time\n",
    "    batch_input_shape=(batch_size, None, lag)\n",
    "\n",
    "    # instantiate a sequential model\n",
    "    model = Sequential()\n",
    "\n",
    "    # add LSTM layer - stateful MUST be true here in \n",
    "    # order to learn the patterns within a series\n",
    "    model.add(LSTM(units=num_neurons, \n",
    "                  batch_input_shape=batch_input_shape, \n",
    "                  stateful=True))\n",
    "\n",
    "    # followed by a dense layer with a single output for regression\n",
    "    model.add(Dense(1))\n",
    "\n",
    "    # compile\n",
    "    model.compile(loss='mean_absolute_error', optimizer='adam')\n",
    "    \n",
    "    return model"
   ]
  },
  {
   "cell_type": "code",
   "execution_count": 63,
   "metadata": {},
   "outputs": [],
   "source": [
    "def generate_hourly_forecast(num_pred_hours, consumption, model, scaler, lag):\n",
    "    \"\"\" Uses last hour's prediction to generate next for num_pred_hours, \n",
    "        initialized by most recent cold start prediction. Inverts scale of \n",
    "        predictions before return.\n",
    "    \"\"\"\n",
    "    # allocate prediction frame\n",
    "    preds_scaled = np.zeros(num_pred_hours)\n",
    "    \n",
    "    # initial X is last lag values from the cold start\n",
    "    X = scaler.transform(consumption.values.reshape(-1, 1))[-lag:]\n",
    "    \n",
    "    # forecast\n",
    "    for i in range(num_pred_hours):\n",
    "        # predict scaled value for next time step\n",
    "        yhat = model.predict(X.reshape(1, 1, lag), batch_size=1)[0][0]\n",
    "        preds_scaled[i] = yhat\n",
    "        \n",
    "        # update X to be latest data plus prediction\n",
    "        X = pd.Series(X.ravel()).shift(-1).fillna(yhat).values\n",
    "\n",
    "    # revert scale back to original range\n",
    "    hourly_preds = scaler.inverse_transform(preds_scaled.reshape(-1, 1)).ravel()\n",
    "    return hourly_preds"
   ]
  },
  {
   "cell_type": "code",
   "execution_count": 34,
   "metadata": {},
   "outputs": [],
   "source": [
    "def get_base_model_predictions(model, cold_start_data, my_predictions, desc=\"Forecasting from Cold Start Data\",lag=24):\n",
    "    %%time\n",
    "    pred_window_to_num_preds = {'hourly': 24, 'daily': 7, 'weekly': 2}\n",
    "    pred_window_to_num_pred_hours = {'hourly': 24, 'daily': 7 * 24, 'weekly': 2 * 7 * 24}\n",
    "\n",
    "    num_test_series = my_predictions.series_id.nunique()\n",
    "\n",
    "    model.reset_states()\n",
    "\n",
    "    for ser_id, pred_df in tqdm(my_predictions.groupby('series_id'), \n",
    "                                total=num_test_series, \n",
    "                                desc=desc):\n",
    "\n",
    "        # get info about this series' prediction window\n",
    "        pred_window = pred_df.prediction_window.unique()[0]\n",
    "        num_preds = pred_window_to_num_preds[pred_window]\n",
    "        num_pred_hours = pred_window_to_num_pred_hours[pred_window]\n",
    "\n",
    "        # prepare cold start data\n",
    "        series_data = cold_start_data[cold_start_data.series_id == ser_id]\n",
    "        cold_X, cold_y, consumption_scaler = prepare_data(series_data, lambda x: create_lagged_features(x,lag=24))\n",
    "\n",
    "        # fine tune our lstm model to this site using cold start data    \n",
    "        model.fit(cold_X, cold_y, epochs=1, batch_size=1, verbose=0, shuffle=False)\n",
    "\n",
    "        # make hourly forecasts for duration of pred window\n",
    "        preds = generate_hourly_forecast(num_pred_hours, series_data.consumption, model, consumption_scaler, lag)\n",
    "\n",
    "        # reduce by taking sum over each sub window in pred window\n",
    "        reduced_preds = [pred.sum() for pred in np.split(preds, num_preds)]\n",
    "\n",
    "        # store result in submission DataFrame\n",
    "        ser_id_mask = my_predictions.series_id == ser_id\n",
    "        my_predictions.loc[ser_id_mask, 'consumption'] = reduced_preds\n",
    "        \n",
    "    return my_predictions"
   ]
  },
  {
   "cell_type": "code",
   "execution_count": 35,
   "metadata": {},
   "outputs": [],
   "source": [
    "batch_size=1\n",
    "lag=24"
   ]
  },
  {
   "cell_type": "code",
   "execution_count": 36,
   "metadata": {},
   "outputs": [
    {
     "name": "stderr",
     "output_type": "stream",
     "text": [
      "Learning Consumption Trends - Fold 0: 100%|██████████████████████████████████████████████| 3/3 [02:25<00:00, 50.08s/it]\n"
     ]
    },
    {
     "name": "stdout",
     "output_type": "stream",
     "text": [
      "Wall time: 0 ns\n"
     ]
    },
    {
     "name": "stderr",
     "output_type": "stream",
     "text": [
      "Forecasting from Training Cold Start Data - Fold 0: 100%|██████████████████████████████| 29/29 [00:39<00:00,  1.28s/it]\n"
     ]
    },
    {
     "name": "stdout",
     "output_type": "stream",
     "text": [
      "Wall time: 0 ns\n"
     ]
    },
    {
     "name": "stderr",
     "output_type": "stream",
     "text": [
      "Forecasting from Cold Start Data - Fold 0: 100%|█████████████████████████████████████████| 8/8 [00:10<00:00,  1.23s/it]\n",
      "Learning Consumption Trends - Fold 1: 100%|██████████████████████████████████████████████| 3/3 [02:09<00:00, 43.95s/it]\n"
     ]
    },
    {
     "name": "stdout",
     "output_type": "stream",
     "text": [
      "Wall time: 0 ns\n"
     ]
    },
    {
     "name": "stderr",
     "output_type": "stream",
     "text": [
      "Forecasting from Training Cold Start Data - Fold 1: 100%|██████████████████████████████| 29/29 [00:41<00:00,  1.61s/it]\n"
     ]
    },
    {
     "name": "stdout",
     "output_type": "stream",
     "text": [
      "Wall time: 996 µs\n"
     ]
    },
    {
     "name": "stderr",
     "output_type": "stream",
     "text": [
      "Forecasting from Cold Start Data - Fold 1: 100%|█████████████████████████████████████████| 8/8 [00:13<00:00,  1.95s/it]\n",
      "Learning Consumption Trends - Fold 2: 100%|██████████████████████████████████████████████| 3/3 [02:40<00:00, 55.54s/it]\n"
     ]
    },
    {
     "name": "stdout",
     "output_type": "stream",
     "text": [
      "Wall time: 0 ns\n"
     ]
    },
    {
     "name": "stderr",
     "output_type": "stream",
     "text": [
      "Forecasting from Training Cold Start Data - Fold 2: 100%|██████████████████████████████| 30/30 [00:40<00:00,  1.25s/it]\n"
     ]
    },
    {
     "name": "stdout",
     "output_type": "stream",
     "text": [
      "Wall time: 0 ns\n"
     ]
    },
    {
     "name": "stderr",
     "output_type": "stream",
     "text": [
      "Forecasting from Cold Start Data - Fold 2: 100%|█████████████████████████████████████████| 7/7 [00:08<00:00,  1.25s/it]\n",
      "Learning Consumption Trends - Fold 3: 100%|██████████████████████████████████████████████| 3/3 [02:28<00:00, 49.38s/it]\n"
     ]
    },
    {
     "name": "stdout",
     "output_type": "stream",
     "text": [
      "Wall time: 0 ns\n"
     ]
    },
    {
     "name": "stderr",
     "output_type": "stream",
     "text": [
      "Forecasting from Training Cold Start Data - Fold 3: 100%|██████████████████████████████| 30/30 [00:57<00:00,  1.89s/it]\n"
     ]
    },
    {
     "name": "stdout",
     "output_type": "stream",
     "text": [
      "Wall time: 0 ns\n"
     ]
    },
    {
     "name": "stderr",
     "output_type": "stream",
     "text": [
      "Forecasting from Cold Start Data - Fold 3: 100%|█████████████████████████████████████████| 7/7 [00:13<00:00,  1.89s/it]\n",
      "Learning Consumption Trends - Fold 4: 100%|██████████████████████████████████████████████| 3/3 [03:21<00:00, 68.09s/it]\n"
     ]
    },
    {
     "name": "stdout",
     "output_type": "stream",
     "text": [
      "Wall time: 0 ns\n"
     ]
    },
    {
     "name": "stderr",
     "output_type": "stream",
     "text": [
      "Forecasting from Training Cold Start Data - Fold 4: 100%|██████████████████████████████| 30/30 [00:54<00:00,  1.65s/it]\n"
     ]
    },
    {
     "name": "stdout",
     "output_type": "stream",
     "text": [
      "Wall time: 0 ns\n"
     ]
    },
    {
     "name": "stderr",
     "output_type": "stream",
     "text": [
      "Forecasting from Cold Start Data - Fold 4: 100%|█████████████████████████████████████████| 7/7 [00:10<00:00,  1.42s/it]\n"
     ]
    },
    {
     "name": "stdout",
     "output_type": "stream",
     "text": [
      "Wall time: 18min 31s\n"
     ]
    }
   ],
   "source": [
    "%%time\n",
    "num_training_series = training_data.series_id.nunique()\n",
    "num_passes_through_data = 3\n",
    "train_cmaes = []\n",
    "fold_cmaes = []\n",
    "\n",
    "for fold_num, indices in enumerate(cv_ids):\n",
    "    train_ids,valid_ids = indices\n",
    "    training_data = training_and_validation_data[training_and_validation_data.series_id.isin(train_ids)]\n",
    "    validation_data = training_and_validation_data[training_and_validation_data.series_id.isin(valid_ids)]\n",
    "    \n",
    "    model = get_base_model()\n",
    "    \n",
    "    #train model\n",
    "    train_model(model,training_data, desc=f\"Learning Consumption Trends - Fold {fold_num}\")\n",
    "    #calculate training error\n",
    "    train_cold_start_data, train_prediction_data = get_cold_start_and_prediction_data(training_data,'weekly')\n",
    "    my_train_predictions = train_prediction_data.copy()    \n",
    "    my_train_predictions = get_base_model_predictions(model, train_cold_start_data, my_train_predictions, desc=f\"Forecasting from Training Cold Start Data - Fold {fold_num}\")    \n",
    "    train_cmaes.append(calc_nmae(train_prediction_data,my_train_predictions))\n",
    "    \n",
    "    #forecast from validation set and calculate validation error\n",
    "    cold_start_data, prediction_data = get_cold_start_and_prediction_data(validation_data,'weekly')    \n",
    "    my_predictions = prediction_data.copy() \n",
    "    my_predictions = get_base_model_predictions(model, cold_start_data, my_predictions, desc=f\"Forecasting from Cold Start Data - Fold {fold_num}\")\n",
    "    fold_cmaes.append(calc_nmae(prediction_data,my_predictions))"
   ]
  },
  {
   "cell_type": "code",
   "execution_count": 60,
   "metadata": {},
   "outputs": [
    {
     "name": "stdout",
     "output_type": "stream",
     "text": [
      "3.97037322399\n"
     ]
    }
   ],
   "source": [
    "print(sum(train_cmaes)/len(train_cmaes))"
   ]
  },
  {
   "cell_type": "code",
   "execution_count": 61,
   "metadata": {},
   "outputs": [
    {
     "name": "stdout",
     "output_type": "stream",
     "text": [
      "4.20712859748\n"
     ]
    }
   ],
   "source": [
    "print(sum(fold_cmaes)/len(fold_cmaes))"
   ]
  },
  {
   "cell_type": "code",
   "execution_count": null,
   "metadata": {},
   "outputs": [],
   "source": [
    "%%time\n",
    "num_training_series = training_data.series_id.nunique()\n",
    "num_passes_through_data = 3\n",
    "train_cmaes_1day = []\n",
    "fold_cmaes_1day = []\n",
    "\n",
    "for fold_num, indices in enumerate(cv_ids):\n",
    "    train_ids,valid_ids = indices\n",
    "    training_data = training_and_validation_data[training_and_validation_data.series_id.isin(train_ids)]\n",
    "    validation_data = training_and_validation_data[training_and_validation_data.series_id.isin(valid_ids)]\n",
    "    \n",
    "    model = get_base_model()\n",
    "    \n",
    "    #train model\n",
    "    train_model(model,training_data, desc=f\"Learning Consumption Trends - Fold {fold_num}\")\n",
    "    #calculate training error\n",
    "    train_cold_start_data, train_prediction_data = get_cold_start_and_prediction_data(training_data,'daily')\n",
    "    my_train_predictions = train_prediction_data.copy()    \n",
    "    my_train_predictions = get_base_model_predictions(model, train_cold_start_data, my_train_predictions, desc=f\"Forecasting from Training Cold Start Data - Fold {fold_num}\")    \n",
    "    train_cmaes_1day.append(calc_nmae(train_prediction_data,my_train_predictions))\n",
    "    \n",
    "    #forecast from validation set and calculate validation error\n",
    "    cold_start_data, prediction_data = get_cold_start_and_prediction_data(validation_data,'daily')    \n",
    "    my_predictions = prediction_data.copy() \n",
    "    my_predictions = get_base_model_predictions(model, cold_start_data, my_predictions, desc=f\"Forecasting from Cold Start Data - Fold {fold_num}\")\n",
    "    fold_cmaes_1day.append(calc_nmae(prediction_data,my_predictions))"
   ]
  },
  {
   "cell_type": "code",
   "execution_count": null,
   "metadata": {},
   "outputs": [],
   "source": [
    "print(sum(train_cmaes_1day)/len(train_cmaes_1day))"
   ]
  },
  {
   "cell_type": "code",
   "execution_count": null,
   "metadata": {},
   "outputs": [],
   "source": [
    "print(sum(fold_cmaes_1day)/len(fold_cmaes_1day))"
   ]
  },
  {
   "cell_type": "code",
   "execution_count": null,
   "metadata": {},
   "outputs": [],
   "source": []
  },
  {
   "cell_type": "code",
   "execution_count": 62,
   "metadata": {},
   "outputs": [
    {
     "name": "stderr",
     "output_type": "stream",
     "text": [
      "Learning Consumption Trends - Fold 0: 100%|██████████████████████████████████████████████| 3/3 [02:18<00:00, 47.22s/it]\n"
     ]
    },
    {
     "name": "stdout",
     "output_type": "stream",
     "text": [
      "Wall time: 0 ns\n"
     ]
    },
    {
     "name": "stderr",
     "output_type": "stream",
     "text": [
      "\r",
      "Forecasting from Training Cold Start Data - Fold 0:   0%|                                       | 0/29 [00:00<?, ?it/s]"
     ]
    },
    {
     "name": "stdout",
     "output_type": "stream",
     "text": [
      "[[-1.19988308]\n",
      " [-1.1998831 ]\n",
      " [-1.19988306]\n",
      " [-1.19988307]\n",
      " [-1.19988305]\n",
      " [-1.19988302]\n",
      " [-1.19988302]\n",
      " [-1.19988312]\n",
      " [-1.19988305]\n",
      " [-1.19988303]\n",
      " [-1.19988305]\n",
      " [-1.199883  ]\n",
      " [-1.19988302]\n",
      " [-1.19988303]\n",
      " [-1.199883  ]\n",
      " [-1.19988298]\n",
      " [-1.19988309]\n",
      " [-1.19988308]\n",
      " [-1.19988299]\n",
      " [-1.19988301]\n",
      " [-1.19988306]\n",
      " [-1.19988309]\n",
      " [-1.19988306]\n",
      " [-1.19988308]]\n"
     ]
    },
    {
     "name": "stderr",
     "output_type": "stream",
     "text": [
      "\r",
      "Forecasting from Training Cold Start Data - Fold 0:   3%|█                              | 1/29 [00:01<00:48,  1.72s/it]"
     ]
    },
    {
     "name": "stdout",
     "output_type": "stream",
     "text": [
      "[[-2.35715591]\n",
      " [-2.357157  ]\n",
      " [-2.357157  ]\n",
      " [-2.357157  ]\n",
      " [-2.357157  ]\n",
      " [-2.35715591]\n",
      " [-2.35715265]\n",
      " [-2.35714612]\n",
      " [-2.35713851]\n",
      " [-2.35713415]\n",
      " [-2.35713524]\n",
      " [-2.35713307]\n",
      " [-2.35713415]\n",
      " [-2.35713415]\n",
      " [-2.35713198]\n",
      " [-2.35713415]\n",
      " [-2.35713415]\n",
      " [-2.35713415]\n",
      " [-2.35713742]\n",
      " [-2.35714177]\n",
      " [-2.35714286]\n",
      " [-2.35714286]\n",
      " [-2.35714938]\n",
      " [-2.357157  ]]\n"
     ]
    },
    {
     "name": "stderr",
     "output_type": "stream",
     "text": [
      "\r",
      "Forecasting from Training Cold Start Data - Fold 0:   7%|██▏                            | 2/29 [00:03<00:43,  1.61s/it]"
     ]
    },
    {
     "name": "stdout",
     "output_type": "stream",
     "text": [
      "[[-1.05942275]\n",
      " [-1.05943188]\n",
      " [-1.05942883]\n",
      " [-1.05943188]\n",
      " [-1.05919462]\n",
      " [-1.05862277]\n",
      " [-1.05850415]\n",
      " [-1.05844027]\n",
      " [-1.05838856]\n",
      " [-1.05842202]\n",
      " [-1.0583551 ]\n",
      " [-1.05848894]\n",
      " [-1.05841898]\n",
      " [-1.05857107]\n",
      " [-1.05841898]\n",
      " [-1.05847981]\n",
      " [-1.05859844]\n",
      " [-1.05892391]\n",
      " [-1.05930717]\n",
      " [-1.05931325]\n",
      " [-1.059441  ]\n",
      " [-1.05943492]\n",
      " [-1.05944404]\n",
      " [-1.05942275]]\n"
     ]
    },
    {
     "name": "stderr",
     "output_type": "stream",
     "text": [
      "\r",
      "Forecasting from Training Cold Start Data - Fold 0:  10%|███▏                           | 3/29 [00:04<00:39,  1.53s/it]"
     ]
    },
    {
     "name": "stdout",
     "output_type": "stream",
     "text": [
      "[[-2.05806926]\n",
      " [-2.05806933]\n",
      " [-2.05807001]\n",
      " [-2.0580696 ]\n",
      " [-2.05806877]\n",
      " [-2.05806867]\n",
      " [-2.05806888]\n",
      " [-2.0580689 ]\n",
      " [-2.05806814]\n",
      " [-2.05806725]\n",
      " [-2.05806753]\n",
      " [-2.0580672 ]\n",
      " [-2.0580672 ]\n",
      " [-2.05806698]\n",
      " [-2.05806693]\n",
      " [-2.0580672 ]\n",
      " [-2.05806694]\n",
      " [-2.05806691]\n",
      " [-2.05806688]\n",
      " [-2.05806805]\n",
      " [-2.05806784]\n",
      " [-2.05806749]\n",
      " [-2.05806799]\n",
      " [-2.05806859]]\n"
     ]
    },
    {
     "name": "stderr",
     "output_type": "stream",
     "text": [
      "\r",
      "Forecasting from Training Cold Start Data - Fold 0:  14%|████▎                          | 4/29 [00:05<00:37,  1.49s/it]"
     ]
    },
    {
     "name": "stdout",
     "output_type": "stream",
     "text": [
      "[[-1.26955421]\n",
      " [-1.26955436]\n",
      " [-1.26955446]\n",
      " [-1.26955471]\n",
      " [-1.26955467]\n",
      " [-1.26955439]\n",
      " [-1.26955447]\n",
      " [-1.2695545 ]\n",
      " [-1.269512  ]\n",
      " [-1.26949969]\n",
      " [-1.26949913]\n",
      " [-1.26949901]\n",
      " [-1.26949915]\n",
      " [-1.26949928]\n",
      " [-1.26949947]\n",
      " [-1.26949905]\n",
      " [-1.26949923]\n",
      " [-1.26949894]\n",
      " [-1.26949965]\n",
      " [-1.26949966]\n",
      " [-1.26950306]\n",
      " [-1.26955826]\n",
      " [-1.26955842]\n",
      " [-1.26955858]]\n"
     ]
    },
    {
     "name": "stderr",
     "output_type": "stream",
     "text": [
      "\r",
      "Forecasting from Training Cold Start Data - Fold 0:  17%|█████▎                         | 5/29 [00:07<00:35,  1.46s/it]"
     ]
    },
    {
     "name": "stdout",
     "output_type": "stream",
     "text": [
      "[[-1.12028018]\n",
      " [-1.12028324]\n",
      " [-1.12028393]\n",
      " [-1.12028401]\n",
      " [-1.12028412]\n",
      " [-1.12028453]\n",
      " [-1.12028431]\n",
      " [-1.1202842 ]\n",
      " [-1.12028382]\n",
      " [-1.12023328]\n",
      " [-1.12023673]\n",
      " [-1.12025006]\n",
      " [-1.12024508]\n",
      " [-1.12025082]\n",
      " [-1.12025478]\n",
      " [-1.12023782]\n",
      " [-1.1202491 ]\n",
      " [-1.12025006]\n",
      " [-1.12023722]\n",
      " [-1.12023913]\n",
      " [-1.12022867]\n",
      " [-1.12026584]\n",
      " [-1.12027863]\n",
      " [-1.12027778]]\n"
     ]
    },
    {
     "name": "stderr",
     "output_type": "stream",
     "text": [
      "\r",
      "Forecasting from Training Cold Start Data - Fold 0:  21%|██████▍                        | 6/29 [00:08<00:33,  1.44s/it]"
     ]
    },
    {
     "name": "stdout",
     "output_type": "stream",
     "text": [
      "[[-1.38835596]\n",
      " [-1.38835842]\n",
      " [-1.38835838]\n",
      " [-1.38835838]\n",
      " [-1.38835999]\n",
      " [-1.38835872]\n",
      " [-1.38835804]\n",
      " [-1.38829892]\n",
      " [-1.38826205]\n",
      " [-1.38822142]\n",
      " [-1.38821368]\n",
      " [-1.38820505]\n",
      " [-1.38819826]\n",
      " [-1.38821733]\n",
      " [-1.38821113]\n",
      " [-1.38819877]\n",
      " [-1.38819095]\n",
      " [-1.38818165]\n",
      " [-1.38819134]\n",
      " [-1.3881915 ]\n",
      " [-1.3883154 ]\n",
      " [-1.38834232]\n",
      " [-1.38834118]\n",
      " [-1.38834118]]\n"
     ]
    },
    {
     "name": "stderr",
     "output_type": "stream",
     "text": [
      "\r",
      "Forecasting from Training Cold Start Data - Fold 0:  24%|███████▍                       | 7/29 [00:10<00:34,  1.56s/it]"
     ]
    },
    {
     "name": "stdout",
     "output_type": "stream",
     "text": [
      "[[-1.21396729]\n",
      " [-1.21396778]\n",
      " [-1.21396833]\n",
      " [-1.21396865]\n",
      " [-1.21396826]\n",
      " [-1.21396907]\n",
      " [-1.21396771]\n",
      " [-1.21396852]\n",
      " [-1.21396726]\n",
      " [-1.21388876]\n",
      " [-1.21387289]\n",
      " [-1.21387695]\n",
      " [-1.21387665]\n",
      " [-1.2138785 ]\n",
      " [-1.2138785 ]\n",
      " [-1.21387188]\n",
      " [-1.21388172]\n",
      " [-1.21387802]\n",
      " [-1.21392983]\n",
      " [-1.21397274]\n",
      " [-1.21397106]\n",
      " [-1.21397089]\n",
      " [-1.21397161]\n",
      " [-1.21397044]]\n"
     ]
    },
    {
     "name": "stderr",
     "output_type": "stream",
     "text": [
      "\r",
      "Forecasting from Training Cold Start Data - Fold 0:  28%|████████▌                      | 8/29 [00:12<00:36,  1.74s/it]"
     ]
    },
    {
     "name": "stdout",
     "output_type": "stream",
     "text": [
      "[[-1.36002565]\n",
      " [-1.35998651]\n",
      " [-1.35995749]\n",
      " [-1.35998456]\n",
      " [-1.35995846]\n",
      " [-1.35999236]\n",
      " [-1.35996409]\n",
      " [-1.35985363]\n",
      " [-1.35986165]\n",
      " [-1.35989697]\n",
      " [-1.3598993 ]\n",
      " [-1.35984943]\n",
      " [-1.35987058]\n",
      " [-1.35982701]\n",
      " [-1.35984111]\n",
      " [-1.35988475]\n",
      " [-1.35985581]\n",
      " [-1.35983203]\n",
      " [-1.35987283]\n",
      " [-1.35988378]\n",
      " [-1.35990117]\n",
      " [-1.35994744]\n",
      " [-1.35995381]\n",
      " [-1.35999303]]\n"
     ]
    },
    {
     "name": "stderr",
     "output_type": "stream",
     "text": [
      "\r",
      "Forecasting from Training Cold Start Data - Fold 0:  31%|█████████▌                     | 9/29 [00:13<00:32,  1.64s/it]"
     ]
    },
    {
     "name": "stdout",
     "output_type": "stream",
     "text": [
      "[[-1.03943932]\n",
      " [-1.03943942]\n",
      " [-1.03943913]\n",
      " [-1.03943917]\n",
      " [-1.03943916]\n",
      " [-1.0394391 ]\n",
      " [-1.0394404 ]\n",
      " [-1.03944088]\n",
      " [-1.03944186]\n",
      " [-1.03943899]\n",
      " [-1.03943854]\n",
      " [-1.03943813]\n",
      " [-1.03943992]\n",
      " [-1.0394407 ]\n",
      " [-1.03943939]\n",
      " [-1.03943864]\n",
      " [-1.03943689]\n",
      " [-1.03943755]\n",
      " [-1.03943899]\n",
      " [-1.03943964]\n",
      " [-1.03943983]\n",
      " [-1.0394429 ]\n",
      " [-1.03944307]\n",
      " [-1.03944305]]\n"
     ]
    },
    {
     "name": "stderr",
     "output_type": "stream",
     "text": [
      "\r",
      "Forecasting from Training Cold Start Data - Fold 0:  34%|██████████▎                   | 10/29 [00:16<00:33,  1.77s/it]"
     ]
    },
    {
     "name": "stdout",
     "output_type": "stream",
     "text": [
      "[[-2.20856227]\n",
      " [-2.20856227]\n",
      " [-2.20766098]\n",
      " [-2.20856227]\n",
      " [-2.20856227]\n",
      " [-2.20856227]\n",
      " [-2.20766098]\n",
      " [-2.20766098]\n",
      " [-2.20856227]\n",
      " [-2.20856227]\n",
      " [-2.20856227]\n",
      " [-2.19053644]\n",
      " [-2.18963515]\n",
      " [-2.18963515]\n",
      " [-2.18963515]\n",
      " [-2.18873386]\n",
      " [-2.18873386]\n",
      " [-2.18963515]\n",
      " [-2.18963515]\n",
      " [-2.18963515]\n",
      " [-2.18963515]\n",
      " [-2.18963515]\n",
      " [-2.18873386]\n",
      " [-2.18873386]]\n"
     ]
    },
    {
     "name": "stderr",
     "output_type": "stream",
     "text": [
      "\r",
      "Forecasting from Training Cold Start Data - Fold 0:  38%|███████████▍                  | 11/29 [00:17<00:32,  1.79s/it]"
     ]
    },
    {
     "name": "stdout",
     "output_type": "stream",
     "text": [
      "[[-1.03841689]\n",
      " [-1.03841689]\n",
      " [-1.0384169 ]\n",
      " [-1.03841689]\n",
      " [-1.03841689]\n",
      " [-1.0384169 ]\n",
      " [-1.0384169 ]\n",
      " [-1.03841684]\n",
      " [-1.03840148]\n",
      " [-1.03840162]\n",
      " [-1.03840141]\n",
      " [-1.0384026 ]\n",
      " [-1.03840278]\n",
      " [-1.03840271]\n",
      " [-1.03840291]\n",
      " [-1.03840311]\n",
      " [-1.03840325]\n",
      " [-1.03840398]\n",
      " [-1.03840326]\n",
      " [-1.03840648]\n",
      " [-1.03840919]\n",
      " [-1.03841354]\n",
      " [-1.03841686]\n",
      " [-1.03841685]]\n"
     ]
    },
    {
     "name": "stderr",
     "output_type": "stream",
     "text": [
      "\r",
      "Forecasting from Training Cold Start Data - Fold 0:  41%|████████████▍                 | 12/29 [00:19<00:31,  1.85s/it]"
     ]
    },
    {
     "name": "stdout",
     "output_type": "stream",
     "text": [
      "[[-2.00737796]\n",
      " [-2.00737808]\n",
      " [-2.00737862]\n",
      " [-2.007378  ]\n",
      " [-2.00737776]\n",
      " [-2.00737898]\n",
      " [-2.00737608]\n",
      " [-2.00737389]\n",
      " [-2.00737067]\n",
      " [-2.00737048]\n",
      " [-2.00736684]\n",
      " [-2.00736637]\n",
      " [-2.00736829]\n",
      " [-2.00736868]\n",
      " [-2.00736879]\n",
      " [-2.00737177]\n",
      " [-2.00737071]\n",
      " [-2.00736966]\n",
      " [-2.0073686 ]\n",
      " [-2.00737064]\n",
      " [-2.00737064]\n",
      " [-2.00737479]\n",
      " [-2.00737729]\n",
      " [-2.007378  ]]\n"
     ]
    },
    {
     "name": "stderr",
     "output_type": "stream",
     "text": [
      "\r",
      "Forecasting from Training Cold Start Data - Fold 0:  45%|█████████████▍                | 13/29 [00:22<00:31,  1.96s/it]"
     ]
    },
    {
     "name": "stdout",
     "output_type": "stream",
     "text": [
      "[[-1.80289371]\n",
      " [-1.8028941 ]\n",
      " [-1.80289423]\n",
      " [-1.80289389]\n",
      " [-1.80289409]\n",
      " [-1.80289221]\n",
      " [-1.80288932]\n",
      " [-1.80288885]\n",
      " [-1.80288816]\n",
      " [-1.80288907]\n",
      " [-1.80288916]\n",
      " [-1.80288973]\n",
      " [-1.80288972]\n",
      " [-1.80289015]\n",
      " [-1.80289111]\n",
      " [-1.80289172]\n",
      " [-1.80289253]\n",
      " [-1.8028948 ]\n",
      " [-1.80289468]\n",
      " [-1.80289443]\n",
      " [-1.80289527]\n",
      " [-1.80289533]\n",
      " [-1.80289507]\n",
      " [-1.80289583]]\n"
     ]
    },
    {
     "name": "stderr",
     "output_type": "stream",
     "text": [
      "\r",
      "Forecasting from Training Cold Start Data - Fold 0:  48%|██████████████▍               | 14/29 [00:24<00:29,  1.95s/it]"
     ]
    },
    {
     "name": "stdout",
     "output_type": "stream",
     "text": [
      "[[-3.12063111]\n",
      " [-3.12062549]\n",
      " [-3.12062833]\n",
      " [-3.12062289]\n",
      " [-3.12062488]\n",
      " [-3.12062494]\n",
      " [-3.1206283 ]\n",
      " [-3.12062264]\n",
      " [-3.12062882]\n",
      " [-3.12062858]\n",
      " [-3.12062532]\n",
      " [-3.12062434]\n",
      " [-3.12061989]\n",
      " [-3.12062156]\n",
      " [-3.12061979]\n",
      " [-3.1206179 ]\n",
      " [-3.12062091]\n",
      " [-3.12061716]\n",
      " [-3.12061939]\n",
      " [-3.12061438]\n",
      " [-3.12061307]\n",
      " [-3.12062061]\n",
      " [-3.12062785]\n",
      " [-3.12062766]]\n"
     ]
    },
    {
     "name": "stderr",
     "output_type": "stream",
     "text": [
      "\r",
      "Forecasting from Training Cold Start Data - Fold 0:  52%|███████████████▌              | 15/29 [00:25<00:26,  1.92s/it]"
     ]
    },
    {
     "name": "stdout",
     "output_type": "stream",
     "text": [
      "[[-1.04581949]\n",
      " [-1.04581949]\n",
      " [-1.04581949]\n",
      " [-1.04581949]\n",
      " [-1.04581949]\n",
      " [-1.04581959]\n",
      " [-1.04577747]\n",
      " [-1.04577747]\n",
      " [-1.04577584]\n",
      " [-1.04563305]\n",
      " [-1.04577574]\n",
      " [-1.04577502]\n",
      " [-1.04577543]\n",
      " [-1.04577492]\n",
      " [-1.04577635]\n",
      " [-1.04577574]\n",
      " [-1.04577645]\n",
      " [-1.04575809]\n",
      " [-1.04576778]\n",
      " [-1.04577523]\n",
      " [-1.04577614]\n",
      " [-1.04577584]\n",
      " [-1.04582031]\n",
      " [-1.0458202 ]]\n"
     ]
    },
    {
     "name": "stderr",
     "output_type": "stream",
     "text": [
      "\r",
      "Forecasting from Training Cold Start Data - Fold 0:  55%|████████████████▌             | 16/29 [00:27<00:25,  1.95s/it]"
     ]
    },
    {
     "name": "stdout",
     "output_type": "stream",
     "text": [
      "[[-1.15674867]\n",
      " [-1.15674867]\n",
      " [-1.15674864]\n",
      " [-1.15674888]\n",
      " [-1.15674887]\n",
      " [-1.15674887]\n",
      " [-1.15674889]\n",
      " [-1.15674885]\n",
      " [-1.15674135]\n",
      " [-1.15673297]\n",
      " [-1.1567326 ]\n",
      " [-1.15673326]\n",
      " [-1.15673229]\n",
      " [-1.15673272]\n",
      " [-1.15673311]\n",
      " [-1.15673267]\n",
      " [-1.15673276]\n",
      " [-1.15673243]\n",
      " [-1.15673271]\n",
      " [-1.15673321]\n",
      " [-1.15672685]\n",
      " [-1.15674767]\n",
      " [-1.15674769]\n",
      " [-1.15674768]]\n"
     ]
    },
    {
     "name": "stderr",
     "output_type": "stream",
     "text": [
      "\r",
      "Forecasting from Training Cold Start Data - Fold 0:  59%|█████████████████▌            | 17/29 [00:29<00:22,  1.91s/it]"
     ]
    },
    {
     "name": "stdout",
     "output_type": "stream",
     "text": [
      "[[-1.41362812]\n",
      " [-1.4136283 ]\n",
      " [-1.41362875]\n",
      " [-1.41362838]\n",
      " [-1.41362855]\n",
      " [-1.41357232]\n",
      " [-1.41355483]\n",
      " [-1.41355735]\n",
      " [-1.4135454 ]\n",
      " [-1.41353021]\n",
      " [-1.41352612]\n",
      " [-1.41352584]\n",
      " [-1.41352821]\n",
      " [-1.41353473]\n",
      " [-1.41353378]\n",
      " [-1.41353207]\n",
      " [-1.41352316]\n",
      " [-1.41352327]\n",
      " [-1.41353438]\n",
      " [-1.41354416]\n",
      " [-1.41354674]\n",
      " [-1.41355104]\n",
      " [-1.41357127]\n",
      " [-1.41357985]]\n"
     ]
    },
    {
     "name": "stderr",
     "output_type": "stream",
     "text": [
      "\r",
      "Forecasting from Training Cold Start Data - Fold 0:  62%|██████████████████▌           | 18/29 [00:31<00:21,  1.98s/it]"
     ]
    },
    {
     "name": "stdout",
     "output_type": "stream",
     "text": [
      "[[-1.13792561]\n",
      " [-1.13792562]\n",
      " [-1.13792524]\n",
      " [-1.1379257 ]\n",
      " [-1.13792583]\n",
      " [-1.13792588]\n",
      " [-1.13792547]\n",
      " [-1.13792536]\n",
      " [-1.13787474]\n",
      " [-1.13786127]\n",
      " [-1.13786593]\n",
      " [-1.13786767]\n",
      " [-1.13786685]\n",
      " [-1.13786748]\n",
      " [-1.13786764]\n",
      " [-1.13786743]\n",
      " [-1.13786715]\n",
      " [-1.13786231]\n",
      " [-1.13786265]\n",
      " [-1.13786294]\n",
      " [-1.1378684 ]\n",
      " [-1.1379257 ]\n",
      " [-1.13792552]\n",
      " [-1.13792535]]\n"
     ]
    },
    {
     "name": "stderr",
     "output_type": "stream",
     "text": [
      "\r",
      "Forecasting from Training Cold Start Data - Fold 0:  66%|███████████████████▋          | 19/29 [00:33<00:19,  1.96s/it]"
     ]
    },
    {
     "name": "stdout",
     "output_type": "stream",
     "text": [
      "[[-2.36669384]\n",
      " [-2.36669546]\n",
      " [-2.3666965 ]\n",
      " [-2.36669569]\n",
      " [-2.36669446]\n",
      " [-2.36669439]\n",
      " [-2.36667804]\n",
      " [-2.36667637]\n",
      " [-2.36667613]\n",
      " [-2.36667764]\n",
      " [-2.36667895]\n",
      " [-2.36668807]\n",
      " [-2.36669093]\n",
      " [-2.36669166]\n",
      " [-2.36669293]\n",
      " [-2.36669277]\n",
      " [-2.36669239]\n",
      " [-2.3666948 ]\n",
      " [-2.36669493]\n",
      " [-2.36669503]\n",
      " [-2.36669567]\n",
      " [-2.36669385]\n",
      " [-2.3666952 ]\n",
      " [-2.36669087]]\n"
     ]
    },
    {
     "name": "stderr",
     "output_type": "stream",
     "text": [
      "\r",
      "Forecasting from Training Cold Start Data - Fold 0:  69%|████████████████████▋         | 20/29 [00:35<00:17,  1.93s/it]"
     ]
    },
    {
     "name": "stdout",
     "output_type": "stream",
     "text": [
      "[[-1.4679555 ]\n",
      " [-1.46794961]\n",
      " [-1.46795096]\n",
      " [-1.46794926]\n",
      " [-1.46794865]\n",
      " [-1.46794962]\n",
      " [-1.46795474]\n",
      " [-1.46790231]\n",
      " [-1.46789821]\n",
      " [-1.46789191]\n",
      " [-1.46788911]\n",
      " [-1.46788975]\n",
      " [-1.46792767]\n",
      " [-1.46794202]\n",
      " [-1.46792795]\n",
      " [-1.46788816]\n",
      " [-1.46788516]\n",
      " [-1.46788794]\n",
      " [-1.46789668]\n",
      " [-1.46790892]\n",
      " [-1.46794456]\n",
      " [-1.4679451 ]\n",
      " [-1.46794696]\n",
      " [-1.46795287]]\n"
     ]
    },
    {
     "name": "stderr",
     "output_type": "stream",
     "text": [
      "\r",
      "Forecasting from Training Cold Start Data - Fold 0:  72%|█████████████████████▋        | 21/29 [00:37<00:14,  1.81s/it]"
     ]
    },
    {
     "name": "stdout",
     "output_type": "stream",
     "text": [
      "[[-1.2217763 ]\n",
      " [-1.2217768 ]\n",
      " [-1.22177653]\n",
      " [-1.22177685]\n",
      " [-1.22177679]\n",
      " [-1.22178609]\n",
      " [-1.22169108]\n",
      " [-1.22173845]\n",
      " [-1.22167927]\n",
      " [-1.22164376]\n",
      " [-1.2216505 ]\n",
      " [-1.22165216]\n",
      " [-1.2216629 ]\n",
      " [-1.22167804]\n",
      " [-1.22167888]\n",
      " [-1.22166541]\n",
      " [-1.22163954]\n",
      " [-1.22164064]\n",
      " [-1.22164243]\n",
      " [-1.2217239 ]\n",
      " [-1.2217849 ]\n",
      " [-1.22173886]\n",
      " [-1.22173982]\n",
      " [-1.22174   ]]\n"
     ]
    },
    {
     "name": "stderr",
     "output_type": "stream",
     "text": [
      "\r",
      "Forecasting from Training Cold Start Data - Fold 0:  76%|██████████████████████▊       | 22/29 [00:38<00:11,  1.69s/it]"
     ]
    },
    {
     "name": "stdout",
     "output_type": "stream",
     "text": [
      "[[-1.93816902]\n",
      " [-1.93816937]\n",
      " [-1.93816257]\n",
      " [-1.93816604]\n",
      " [-1.93816553]\n",
      " [-1.93817126]\n",
      " [-1.93816389]\n",
      " [-1.93815774]\n",
      " [-1.93813388]\n",
      " [-1.93811891]\n",
      " [-1.9381228 ]\n",
      " [-1.93812677]\n",
      " [-1.93812094]\n",
      " [-1.93817464]\n",
      " [-1.93816246]\n",
      " [-1.93814704]\n",
      " [-1.93812389]\n",
      " [-1.93811784]\n",
      " [-1.93811204]\n",
      " [-1.93813763]\n",
      " [-1.93816112]\n",
      " [-1.9381611 ]\n",
      " [-1.93817036]\n",
      " [-1.93817198]]\n"
     ]
    },
    {
     "name": "stderr",
     "output_type": "stream",
     "text": [
      "\r",
      "Forecasting from Training Cold Start Data - Fold 0:  79%|███████████████████████▊      | 23/29 [00:40<00:10,  1.69s/it]"
     ]
    },
    {
     "name": "stdout",
     "output_type": "stream",
     "text": [
      "[[-1.7103914 ]\n",
      " [-1.71039103]\n",
      " [-1.71039107]\n",
      " [-1.71039088]\n",
      " [-1.71039118]\n",
      " [-1.71038632]\n",
      " [-1.71038453]\n",
      " [-1.71038212]\n",
      " [-1.71038168]\n",
      " [-1.7103788 ]\n",
      " [-1.71037761]\n",
      " [-1.71038084]\n",
      " [-1.71037912]\n",
      " [-1.71037918]\n",
      " [-1.71038174]\n",
      " [-1.71038338]\n",
      " [-1.71038427]\n",
      " [-1.71038921]\n",
      " [-1.71038974]\n",
      " [-1.71039057]\n",
      " [-1.7103898 ]\n",
      " [-1.71038969]\n",
      " [-1.71039059]\n",
      " [-1.71039102]]\n"
     ]
    },
    {
     "name": "stderr",
     "output_type": "stream",
     "text": [
      "\r",
      "Forecasting from Training Cold Start Data - Fold 0:  83%|████████████████████████▊     | 24/29 [00:41<00:08,  1.68s/it]"
     ]
    },
    {
     "name": "stdout",
     "output_type": "stream",
     "text": [
      "[[-2.609905  ]\n",
      " [-2.60990896]\n",
      " [-2.6099098 ]\n",
      " [-2.60990955]\n",
      " [-2.60991011]\n",
      " [-2.60991258]\n",
      " [-2.60991132]\n",
      " [-2.60991104]\n",
      " [-2.6099103 ]\n",
      " [-2.609909  ]\n",
      " [-2.60990836]\n",
      " [-2.60990864]\n",
      " [-2.60990432]\n",
      " [-2.609903  ]\n",
      " [-2.60990182]\n",
      " [-2.60990478]\n",
      " [-2.60990155]\n",
      " [-2.60989875]\n",
      " [-2.60989499]\n",
      " [-2.60989863]\n",
      " [-2.60990053]\n",
      " [-2.60989988]\n",
      " [-2.60990428]\n",
      " [-2.60990368]]\n"
     ]
    },
    {
     "name": "stderr",
     "output_type": "stream",
     "text": [
      "\r",
      "Forecasting from Training Cold Start Data - Fold 0:  86%|█████████████████████████▊    | 25/29 [00:43<00:06,  1.72s/it]"
     ]
    },
    {
     "name": "stdout",
     "output_type": "stream",
     "text": [
      "[[-1.29288829]\n",
      " [-1.29288829]\n",
      " [-1.29288829]\n",
      " [-1.29288829]\n",
      " [-1.29288829]\n",
      " [-1.29288829]\n",
      " [-1.29289867]\n",
      " [-1.29242137]\n",
      " [-1.29157053]\n",
      " [-1.29092721]\n",
      " [-1.29101022]\n",
      " [-1.29123849]\n",
      " [-1.29147714]\n",
      " [-1.29104135]\n",
      " [-1.29113473]\n",
      " [-1.29099984]\n",
      " [-1.29171579]\n",
      " [-1.29171579]\n",
      " [-1.29229685]\n",
      " [-1.29204783]\n",
      " [-1.29269114]\n",
      " [-1.29287791]\n",
      " [-1.29287791]\n",
      " [-1.29287791]]\n"
     ]
    },
    {
     "name": "stderr",
     "output_type": "stream",
     "text": [
      "\r",
      "Forecasting from Training Cold Start Data - Fold 0:  90%|██████████████████████████▉   | 26/29 [00:45<00:05,  1.86s/it]"
     ]
    },
    {
     "name": "stdout",
     "output_type": "stream",
     "text": [
      "[[-1.66529984]\n",
      " [-1.66530037]\n",
      " [-1.66530211]\n",
      " [-1.66530037]\n",
      " [-1.66530056]\n",
      " [-1.66529423]\n",
      " [-1.66528913]\n",
      " [-1.6652847 ]\n",
      " [-1.66527567]\n",
      " [-1.66527988]\n",
      " [-1.66528185]\n",
      " [-1.66527933]\n",
      " [-1.66527905]\n",
      " [-1.66527909]\n",
      " [-1.66528194]\n",
      " [-1.66527936]\n",
      " [-1.66527782]\n",
      " [-1.6652797 ]\n",
      " [-1.66527953]\n",
      " [-1.66528185]\n",
      " [-1.66528353]\n",
      " [-1.66529827]\n",
      " [-1.66529908]\n",
      " [-1.66530072]]\n"
     ]
    },
    {
     "name": "stderr",
     "output_type": "stream",
     "text": [
      "\r",
      "Forecasting from Training Cold Start Data - Fold 0:  93%|███████████████████████████▉  | 27/29 [00:47<00:03,  1.89s/it]"
     ]
    },
    {
     "name": "stdout",
     "output_type": "stream",
     "text": [
      "[[-2.21117648]\n",
      " [-2.2111774 ]\n",
      " [-2.21117701]\n",
      " [-2.21117842]\n",
      " [-2.21117697]\n",
      " [-2.21117612]\n",
      " [-2.21116579]\n",
      " [-2.21116358]\n",
      " [-2.21116108]\n",
      " [-2.21116025]\n",
      " [-2.21116424]\n",
      " [-2.211165  ]\n",
      " [-2.21116141]\n",
      " [-2.21116614]\n",
      " [-2.21116884]\n",
      " [-2.21116994]\n",
      " [-2.21116967]\n",
      " [-2.21117241]\n",
      " [-2.21117393]\n",
      " [-2.21117534]\n",
      " [-2.21117517]\n",
      " [-2.21117488]\n",
      " [-2.21117613]\n",
      " [-2.21117718]]\n"
     ]
    },
    {
     "name": "stderr",
     "output_type": "stream",
     "text": [
      "\r",
      "Forecasting from Training Cold Start Data - Fold 0:  97%|████████████████████████████▉ | 28/29 [00:49<00:01,  1.83s/it]"
     ]
    },
    {
     "name": "stdout",
     "output_type": "stream",
     "text": [
      "[[-2.29441874]\n",
      " [-2.29442089]\n",
      " [-2.29442104]\n",
      " [-2.29442108]\n",
      " [-2.29442082]\n",
      " [-2.2944219 ]\n",
      " [-2.29442277]\n",
      " [-2.29442244]\n",
      " [-2.294422  ]\n",
      " [-2.29442006]\n",
      " [-2.29441793]\n",
      " [-2.29441554]\n",
      " [-2.2944174 ]\n",
      " [-2.29441768]\n",
      " [-2.29441814]\n",
      " [-2.29441935]\n",
      " [-2.29441887]\n",
      " [-2.29441758]\n",
      " [-2.29441755]\n",
      " [-2.29441816]\n",
      " [-2.29441871]\n",
      " [-2.29441797]\n",
      " [-2.29441789]\n",
      " [-2.2944205 ]]\n"
     ]
    },
    {
     "name": "stderr",
     "output_type": "stream",
     "text": [
      "Forecasting from Training Cold Start Data - Fold 0: 100%|██████████████████████████████| 29/29 [00:51<00:00,  1.92s/it]\n"
     ]
    },
    {
     "name": "stdout",
     "output_type": "stream",
     "text": [
      "Wall time: 0 ns\n"
     ]
    },
    {
     "name": "stderr",
     "output_type": "stream",
     "text": [
      "\r",
      "Forecasting from Cold Start Data - Fold 0:   0%|                                                 | 0/8 [00:00<?, ?it/s]"
     ]
    },
    {
     "name": "stdout",
     "output_type": "stream",
     "text": [
      "[[-1.40152568]\n",
      " [-1.40152572]\n",
      " [-1.40152584]\n",
      " [-1.40152593]\n",
      " [-1.40152601]\n",
      " [-1.40152601]\n",
      " [-1.40152601]\n",
      " [-1.40152584]\n",
      " [-1.40152593]\n",
      " [-1.40152601]\n",
      " [-1.4015261 ]\n",
      " [-1.4015261 ]\n",
      " [-1.40152614]\n",
      " [-1.40152618]\n",
      " [-1.40152618]\n",
      " [-1.40152597]\n",
      " [-1.40152618]\n",
      " [-1.40152601]\n",
      " [-1.40152618]\n",
      " [-1.40152601]\n",
      " [-1.40152584]\n",
      " [-1.40152589]\n",
      " [-1.40152576]\n",
      " [-1.40152584]]\n"
     ]
    },
    {
     "name": "stderr",
     "output_type": "stream",
     "text": [
      "\r",
      "Forecasting from Cold Start Data - Fold 0:  12%|█████▏                                   | 1/8 [00:01<00:13,  1.89s/it]"
     ]
    },
    {
     "name": "stdout",
     "output_type": "stream",
     "text": [
      "[[-8.28708586]\n",
      " [-8.2870014 ]\n",
      " [-8.28715692]\n",
      " [-8.28698978]\n",
      " [-8.28700051]\n",
      " [-8.28704519]\n",
      " [-8.28699872]\n",
      " [-8.28707737]\n",
      " [-8.2870081 ]\n",
      " [-8.28703492]\n",
      " [-8.28697593]\n",
      " [-8.28687135]\n",
      " [-8.28684856]\n",
      " [-8.28686018]\n",
      " [-8.2867355 ]\n",
      " [-8.28679404]\n",
      " [-8.28670823]\n",
      " [-8.28677214]\n",
      " [-8.2869214 ]\n",
      " [-8.2868937 ]\n",
      " [-8.28692275]\n",
      " [-8.28708184]\n",
      " [-8.28696788]\n",
      " [-8.28702508]]\n"
     ]
    },
    {
     "name": "stderr",
     "output_type": "stream",
     "text": [
      "\r",
      "Forecasting from Cold Start Data - Fold 0:  25%|██████████▎                              | 2/8 [00:03<00:11,  1.92s/it]"
     ]
    },
    {
     "name": "stdout",
     "output_type": "stream",
     "text": [
      "[[-1.41773214]\n",
      " [-1.41773152]\n",
      " [-1.41773168]\n",
      " [-1.41773216]\n",
      " [-1.41773082]\n",
      " [-1.41771448]\n",
      " [-1.41770801]\n",
      " [-1.4177101 ]\n",
      " [-1.41770477]\n",
      " [-1.41770387]\n",
      " [-1.4177073 ]\n",
      " [-1.41770934]\n",
      " [-1.41771031]\n",
      " [-1.41771253]\n",
      " [-1.41771266]\n",
      " [-1.41771287]\n",
      " [-1.41771022]\n",
      " [-1.41770492]\n",
      " [-1.41770841]\n",
      " [-1.41771717]\n",
      " [-1.41772077]\n",
      " [-1.41773042]\n",
      " [-1.41773193]\n",
      " [-1.41773231]]\n"
     ]
    },
    {
     "name": "stderr",
     "output_type": "stream",
     "text": [
      "\r",
      "Forecasting from Cold Start Data - Fold 0:  38%|███████████████▍                         | 3/8 [00:05<00:09,  1.81s/it]"
     ]
    },
    {
     "name": "stdout",
     "output_type": "stream",
     "text": [
      "[[-1.19289748]\n",
      " [-1.19290214]\n",
      " [-1.19290262]\n",
      " [-1.1928993 ]\n",
      " [-1.19287664]\n",
      " [-1.19289839]\n",
      " [-1.1928993 ]\n",
      " [-1.19290262]\n",
      " [-1.19287815]\n",
      " [-1.19255499]\n",
      " [-1.192616  ]\n",
      " [-1.19258066]\n",
      " [-1.19247707]\n",
      " [-1.19257613]\n",
      " [-1.19275523]\n",
      " [-1.19276399]\n",
      " [-1.19263956]\n",
      " [-1.19270842]\n",
      " [-1.19273258]\n",
      " [-1.19279208]\n",
      " [-1.19284161]\n",
      " [-1.19289748]\n",
      " [-1.19290141]\n",
      " [-1.1928996 ]]\n"
     ]
    },
    {
     "name": "stderr",
     "output_type": "stream",
     "text": [
      "\r",
      "Forecasting from Cold Start Data - Fold 0:  50%|████████████████████▌                    | 4/8 [00:06<00:06,  1.68s/it]"
     ]
    },
    {
     "name": "stdout",
     "output_type": "stream",
     "text": [
      "[[-2.36364787]\n",
      " [-2.363645  ]\n",
      " [-2.36364787]\n",
      " [-2.36364068]\n",
      " [-2.36364643]\n",
      " [-2.36364068]\n",
      " [-2.36364068]\n",
      " [-2.36363205]\n",
      " [-2.36362773]\n",
      " [-2.36362773]\n",
      " [-2.36362485]\n",
      " [-2.36362629]\n",
      " [-2.36362773]\n",
      " [-2.36362917]\n",
      " [-2.36362629]\n",
      " [-2.36362773]\n",
      " [-2.36362773]\n",
      " [-2.36363492]\n",
      " [-2.36363636]\n",
      " [-2.36363924]\n",
      " [-2.36364068]\n",
      " [-2.3636378 ]\n",
      " [-2.36363924]\n",
      " [-2.36363924]]\n"
     ]
    },
    {
     "name": "stderr",
     "output_type": "stream",
     "text": [
      "\r",
      "Forecasting from Cold Start Data - Fold 0:  62%|█████████████████████████▋               | 5/8 [00:08<00:04,  1.58s/it]"
     ]
    },
    {
     "name": "stdout",
     "output_type": "stream",
     "text": [
      "[[-1.45661931]\n",
      " [-1.45661979]\n",
      " [-1.4566215 ]\n",
      " [-1.45662223]\n",
      " [-1.45662241]\n",
      " [-1.45662258]\n",
      " [-1.45662066]\n",
      " [-1.45662045]\n",
      " [-1.4566187 ]\n",
      " [-1.45661791]\n",
      " [-1.45661795]\n",
      " [-1.45661775]\n",
      " [-1.45661859]\n",
      " [-1.4566187 ]\n",
      " [-1.45661819]\n",
      " [-1.45661802]\n",
      " [-1.45661842]\n",
      " [-1.4566186 ]\n",
      " [-1.45661853]\n",
      " [-1.45661822]\n",
      " [-1.4566176 ]\n",
      " [-1.45661772]\n",
      " [-1.45661859]\n",
      " [-1.45661904]]\n"
     ]
    },
    {
     "name": "stderr",
     "output_type": "stream",
     "text": [
      "\r",
      "Forecasting from Cold Start Data - Fold 0:  75%|██████████████████████████████▊          | 6/8 [00:09<00:03,  1.51s/it]"
     ]
    },
    {
     "name": "stdout",
     "output_type": "stream",
     "text": [
      "[[-1.6625403 ]\n",
      " [-1.66253996]\n",
      " [-1.66253984]\n",
      " [-1.66254018]\n",
      " [-1.66254046]\n",
      " [-1.66254051]\n",
      " [-1.66252563]\n",
      " [-1.66251873]\n",
      " [-1.66251606]\n",
      " [-1.66251367]\n",
      " [-1.66251913]\n",
      " [-1.66252236]\n",
      " [-1.66252276]\n",
      " [-1.66252412]\n",
      " [-1.66252392]\n",
      " [-1.66252279]\n",
      " [-1.6625223 ]\n",
      " [-1.66252015]\n",
      " [-1.6625192 ]\n",
      " [-1.66251865]\n",
      " [-1.66252487]\n",
      " [-1.66253747]\n",
      " [-1.66253677]\n",
      " [-1.66253746]]\n"
     ]
    },
    {
     "name": "stderr",
     "output_type": "stream",
     "text": [
      "\r",
      "Forecasting from Cold Start Data - Fold 0:  88%|███████████████████████████████████▉     | 7/8 [00:10<00:01,  1.47s/it]"
     ]
    },
    {
     "name": "stdout",
     "output_type": "stream",
     "text": [
      "[[-1.11793811]\n",
      " [-1.11794403]\n",
      " [-1.11794382]\n",
      " [-1.11794458]\n",
      " [-1.11794428]\n",
      " [-1.11794445]\n",
      " [-1.11794441]\n",
      " [-1.11794437]\n",
      " [-1.11794093]\n",
      " [-1.1179191 ]\n",
      " [-1.11792074]\n",
      " [-1.1179217 ]\n",
      " [-1.11792086]\n",
      " [-1.11792145]\n",
      " [-1.11791994]\n",
      " [-1.11791851]\n",
      " [-1.11792015]\n",
      " [-1.11788431]\n",
      " [-1.11789497]\n",
      " [-1.11785232]\n",
      " [-1.1178449 ]\n",
      " [-1.11792124]\n",
      " [-1.11793417]\n",
      " [-1.11793396]]\n"
     ]
    },
    {
     "name": "stderr",
     "output_type": "stream",
     "text": [
      "Forecasting from Cold Start Data - Fold 0: 100%|█████████████████████████████████████████| 8/8 [00:12<00:00,  1.43s/it]\n"
     ]
    },
    {
     "name": "stdout",
     "output_type": "stream",
     "text": [
      "Wall time: 3min 30s\n"
     ]
    }
   ],
   "source": [
    "%%time\n",
    "num_training_series = training_data.series_id.nunique()\n",
    "num_passes_through_data = 3\n",
    "\n",
    "\n",
    "for fold_num, indices in enumerate(cv_ids):\n",
    "    train_ids,valid_ids = indices\n",
    "    training_data = training_and_validation_data[training_and_validation_data.series_id.isin(train_ids)]\n",
    "    validation_data = training_and_validation_data[training_and_validation_data.series_id.isin(valid_ids)]\n",
    "    \n",
    "    model = get_base_model()\n",
    "    \n",
    "    #train model\n",
    "    train_model(model,training_data, desc=f\"Learning Consumption Trends - Fold {fold_num}\")\n",
    "    #calculate training error\n",
    "    train_cold_start_data, train_prediction_data = get_cold_start_and_prediction_data(training_data,'weekly')\n",
    "    my_train_predictions = train_prediction_data.copy()    \n",
    "    my_train_predictions = get_base_model_predictions(model, train_cold_start_data, my_train_predictions, desc=f\"Forecasting from Training Cold Start Data - Fold {fold_num}\")    \n",
    "\n",
    "    \n",
    "    #forecast from validation set and calculate validation error\n",
    "    cold_start_data, prediction_data = get_cold_start_and_prediction_data(validation_data,'weekly')    \n",
    "    my_predictions = prediction_data.copy() \n",
    "    my_predictions = get_base_model_predictions(model, cold_start_data, my_predictions, desc=f\"Forecasting from Cold Start Data - Fold {fold_num}\")\n",
    "\n",
    "    break\n",
    "    "
   ]
  },
  {
   "cell_type": "code",
   "execution_count": 64,
   "metadata": {
    "scrolled": true
   },
   "outputs": [
    {
     "data": {
      "text/plain": [
       "4.6096432797222082"
      ]
     },
     "execution_count": 64,
     "metadata": {},
     "output_type": "execute_result"
    }
   ],
   "source": [
    "calc_nmae(train_prediction_data,my_train_predictions)"
   ]
  },
  {
   "cell_type": "code",
   "execution_count": 65,
   "metadata": {},
   "outputs": [
    {
     "data": {
      "text/plain": [
       "3.4215315834649154"
      ]
     },
     "execution_count": 65,
     "metadata": {},
     "output_type": "execute_result"
    }
   ],
   "source": [
    "calc_nmae(prediction_data,my_predictions)"
   ]
  },
  {
   "cell_type": "code",
   "execution_count": 38,
   "metadata": {},
   "outputs": [
    {
     "name": "stdout",
     "output_type": "stream",
     "text": [
      "_________________________________________________________________\n",
      "Layer (type)                 Output Shape              Param #   \n",
      "=================================================================\n",
      "lstm_5 (LSTM)                (1, 24)                   4704      \n",
      "_________________________________________________________________\n",
      "dense_5 (Dense)              (1, 1)                    25        \n",
      "=================================================================\n",
      "Total params: 4,729\n",
      "Trainable params: 4,729\n",
      "Non-trainable params: 0\n",
      "_________________________________________________________________\n"
     ]
    }
   ],
   "source": [
    "model.summary()"
   ]
  },
  {
   "cell_type": "code",
   "execution_count": 40,
   "metadata": {},
   "outputs": [
    {
     "data": {
      "text/plain": [
       "array([100807, 100142, 101591, 102345, 101075, 100399, 101967, 101926,\n",
       "       102993, 102640, 100244, 100665, 100139, 103432, 101763, 103298,\n",
       "       101660, 102162, 103159, 100040, 100425, 102478, 101523, 101203,\n",
       "       100801, 102997, 101183, 103105, 102892], dtype=int64)"
      ]
     },
     "execution_count": 40,
     "metadata": {},
     "output_type": "execute_result"
    }
   ],
   "source": [
    "cv_ids[0][0]"
   ]
  },
  {
   "cell_type": "code",
   "execution_count": 41,
   "metadata": {},
   "outputs": [],
   "source": [
    " temp_data = training_and_validation_data[training_and_validation_data.series_id.isin(cv_ids[0][0])]"
   ]
  },
  {
   "cell_type": "code",
   "execution_count": 43,
   "metadata": {},
   "outputs": [],
   "source": [
    "temp_cold_start_data, temp_prediction_data = get_cold_start_and_prediction_data(temp_data,'weekly')"
   ]
  },
  {
   "cell_type": "code",
   "execution_count": 44,
   "metadata": {},
   "outputs": [],
   "source": [
    "my_test_predictions = test_prediction_data.copy()"
   ]
  },
  {
   "cell_type": "code",
   "execution_count": 47,
   "metadata": {},
   "outputs": [
    {
     "name": "stdout",
     "output_type": "stream",
     "text": [
      "Wall time: 0 ns\n"
     ]
    },
    {
     "name": "stderr",
     "output_type": "stream",
     "text": [
      "\r",
      "Forecasting from Training Cold Start Data - Fold 4:   0%|                                       | 0/30 [00:00<?, ?it/s]"
     ]
    },
    {
     "name": "stdout",
     "output_type": "stream",
     "text": [
      "[[-1.19988308]\n",
      " [-1.1998831 ]\n",
      " [-1.19988306]\n",
      " [-1.19988307]\n",
      " [-1.19988305]\n",
      " [-1.19988302]\n",
      " [-1.19988302]\n",
      " [-1.19988312]\n",
      " [-1.19988305]\n",
      " [-1.19988303]\n",
      " [-1.19988305]\n",
      " [-1.199883  ]\n",
      " [-1.19988302]\n",
      " [-1.19988303]\n",
      " [-1.199883  ]\n",
      " [-1.19988298]\n",
      " [-1.19988309]\n",
      " [-1.19988308]\n",
      " [-1.19988299]\n",
      " [-1.19988301]\n",
      " [-1.19988306]\n",
      " [-1.19988309]\n",
      " [-1.19988306]\n",
      " [-1.19988308]]\n"
     ]
    },
    {
     "name": "stderr",
     "output_type": "stream",
     "text": [
      "\r",
      "Forecasting from Training Cold Start Data - Fold 4:   3%|█                              | 1/30 [00:01<00:39,  1.35s/it]"
     ]
    },
    {
     "name": "stdout",
     "output_type": "stream",
     "text": [
      "[[-2.35715591]\n",
      " [-2.357157  ]\n",
      " [-2.357157  ]\n",
      " [-2.357157  ]\n",
      " [-2.357157  ]\n",
      " [-2.35715591]\n",
      " [-2.35715265]\n",
      " [-2.35714612]\n",
      " [-2.35713851]\n",
      " [-2.35713415]\n",
      " [-2.35713524]\n",
      " [-2.35713307]\n",
      " [-2.35713415]\n",
      " [-2.35713415]\n",
      " [-2.35713198]\n",
      " [-2.35713415]\n",
      " [-2.35713415]\n",
      " [-2.35713415]\n",
      " [-2.35713742]\n",
      " [-2.35714177]\n",
      " [-2.35714286]\n",
      " [-2.35714286]\n",
      " [-2.35714938]\n",
      " [-2.357157  ]]\n"
     ]
    },
    {
     "name": "stderr",
     "output_type": "stream",
     "text": [
      "\r",
      "Forecasting from Training Cold Start Data - Fold 4:   7%|██                             | 2/30 [00:02<00:37,  1.35s/it]"
     ]
    },
    {
     "name": "stdout",
     "output_type": "stream",
     "text": [
      "[[-1.05942275]\n",
      " [-1.05943188]\n",
      " [-1.05942883]\n",
      " [-1.05943188]\n",
      " [-1.05919462]\n",
      " [-1.05862277]\n",
      " [-1.05850415]\n",
      " [-1.05844027]\n",
      " [-1.05838856]\n",
      " [-1.05842202]\n",
      " [-1.0583551 ]\n",
      " [-1.05848894]\n",
      " [-1.05841898]\n",
      " [-1.05857107]\n",
      " [-1.05841898]\n",
      " [-1.05847981]\n",
      " [-1.05859844]\n",
      " [-1.05892391]\n",
      " [-1.05930717]\n",
      " [-1.05931325]\n",
      " [-1.059441  ]\n",
      " [-1.05943492]\n",
      " [-1.05944404]\n",
      " [-1.05942275]]\n"
     ]
    },
    {
     "name": "stderr",
     "output_type": "stream",
     "text": [
      "\r",
      "Forecasting from Training Cold Start Data - Fold 4:  10%|███                            | 3/30 [00:04<00:36,  1.35s/it]"
     ]
    },
    {
     "name": "stdout",
     "output_type": "stream",
     "text": [
      "[[-2.05806926]\n",
      " [-2.05806933]\n",
      " [-2.05807001]\n",
      " [-2.0580696 ]\n",
      " [-2.05806877]\n",
      " [-2.05806867]\n",
      " [-2.05806888]\n",
      " [-2.0580689 ]\n",
      " [-2.05806814]\n",
      " [-2.05806725]\n",
      " [-2.05806753]\n",
      " [-2.0580672 ]\n",
      " [-2.0580672 ]\n",
      " [-2.05806698]\n",
      " [-2.05806693]\n",
      " [-2.0580672 ]\n",
      " [-2.05806694]\n",
      " [-2.05806691]\n",
      " [-2.05806688]\n",
      " [-2.05806805]\n",
      " [-2.05806784]\n",
      " [-2.05806749]\n",
      " [-2.05806799]\n",
      " [-2.05806859]]\n"
     ]
    },
    {
     "name": "stderr",
     "output_type": "stream",
     "text": [
      "\r",
      "Forecasting from Training Cold Start Data - Fold 4:  13%|████▏                          | 4/30 [00:06<00:41,  1.59s/it]"
     ]
    },
    {
     "name": "stdout",
     "output_type": "stream",
     "text": [
      "[[-1.26955421]\n",
      " [-1.26955436]\n",
      " [-1.26955446]\n",
      " [-1.26955471]\n",
      " [-1.26955467]\n",
      " [-1.26955439]\n",
      " [-1.26955447]\n",
      " [-1.2695545 ]\n",
      " [-1.269512  ]\n",
      " [-1.26949969]\n",
      " [-1.26949913]\n",
      " [-1.26949901]\n",
      " [-1.26949915]\n",
      " [-1.26949928]\n",
      " [-1.26949947]\n",
      " [-1.26949905]\n",
      " [-1.26949923]\n",
      " [-1.26949894]\n",
      " [-1.26949965]\n",
      " [-1.26949966]\n",
      " [-1.26950306]\n",
      " [-1.26955826]\n",
      " [-1.26955842]\n",
      " [-1.26955858]]\n"
     ]
    },
    {
     "name": "stderr",
     "output_type": "stream",
     "text": [
      "\r",
      "Forecasting from Training Cold Start Data - Fold 4:  17%|█████▏                         | 5/30 [00:07<00:38,  1.55s/it]"
     ]
    },
    {
     "name": "stdout",
     "output_type": "stream",
     "text": [
      "[[-1.12028018]\n",
      " [-1.12028324]\n",
      " [-1.12028393]\n",
      " [-1.12028401]\n",
      " [-1.12028412]\n",
      " [-1.12028453]\n",
      " [-1.12028431]\n",
      " [-1.1202842 ]\n",
      " [-1.12028382]\n",
      " [-1.12023328]\n",
      " [-1.12023673]\n",
      " [-1.12025006]\n",
      " [-1.12024508]\n",
      " [-1.12025082]\n",
      " [-1.12025478]\n",
      " [-1.12023782]\n",
      " [-1.1202491 ]\n",
      " [-1.12025006]\n",
      " [-1.12023722]\n",
      " [-1.12023913]\n",
      " [-1.12022867]\n",
      " [-1.12026584]\n",
      " [-1.12027863]\n",
      " [-1.12027778]]\n"
     ]
    },
    {
     "name": "stderr",
     "output_type": "stream",
     "text": [
      "\r",
      "Forecasting from Training Cold Start Data - Fold 4:  20%|██████▏                        | 6/30 [00:09<00:36,  1.51s/it]"
     ]
    },
    {
     "name": "stdout",
     "output_type": "stream",
     "text": [
      "[[-1.40152568]\n",
      " [-1.40152572]\n",
      " [-1.40152584]\n",
      " [-1.40152593]\n",
      " [-1.40152601]\n",
      " [-1.40152601]\n",
      " [-1.40152601]\n",
      " [-1.40152584]\n",
      " [-1.40152593]\n",
      " [-1.40152601]\n",
      " [-1.4015261 ]\n",
      " [-1.4015261 ]\n",
      " [-1.40152614]\n",
      " [-1.40152618]\n",
      " [-1.40152618]\n",
      " [-1.40152597]\n",
      " [-1.40152618]\n",
      " [-1.40152601]\n",
      " [-1.40152618]\n",
      " [-1.40152601]\n",
      " [-1.40152584]\n",
      " [-1.40152589]\n",
      " [-1.40152576]\n",
      " [-1.40152584]]\n"
     ]
    },
    {
     "name": "stderr",
     "output_type": "stream",
     "text": [
      "\r",
      "Forecasting from Training Cold Start Data - Fold 4:  23%|███████▏                       | 7/30 [00:10<00:34,  1.51s/it]"
     ]
    },
    {
     "name": "stdout",
     "output_type": "stream",
     "text": [
      "[[-1.38835596]\n",
      " [-1.38835842]\n",
      " [-1.38835838]\n",
      " [-1.38835838]\n",
      " [-1.38835999]\n",
      " [-1.38835872]\n",
      " [-1.38835804]\n",
      " [-1.38829892]\n",
      " [-1.38826205]\n",
      " [-1.38822142]\n",
      " [-1.38821368]\n",
      " [-1.38820505]\n",
      " [-1.38819826]\n",
      " [-1.38821733]\n",
      " [-1.38821113]\n",
      " [-1.38819877]\n",
      " [-1.38819095]\n",
      " [-1.38818165]\n",
      " [-1.38819134]\n",
      " [-1.3881915 ]\n",
      " [-1.3883154 ]\n",
      " [-1.38834232]\n",
      " [-1.38834118]\n",
      " [-1.38834118]]\n"
     ]
    },
    {
     "name": "stderr",
     "output_type": "stream",
     "text": [
      "\r",
      "Forecasting from Training Cold Start Data - Fold 4:  27%|████████▎                      | 8/30 [00:11<00:31,  1.45s/it]"
     ]
    },
    {
     "name": "stdout",
     "output_type": "stream",
     "text": [
      "[[-8.28708586]\n",
      " [-8.2870014 ]\n",
      " [-8.28715692]\n",
      " [-8.28698978]\n",
      " [-8.28700051]\n",
      " [-8.28704519]\n",
      " [-8.28699872]\n",
      " [-8.28707737]\n",
      " [-8.2870081 ]\n",
      " [-8.28703492]\n",
      " [-8.28697593]\n",
      " [-8.28687135]\n",
      " [-8.28684856]\n",
      " [-8.28686018]\n",
      " [-8.2867355 ]\n",
      " [-8.28679404]\n",
      " [-8.28670823]\n",
      " [-8.28677214]\n",
      " [-8.2869214 ]\n",
      " [-8.2868937 ]\n",
      " [-8.28692275]\n",
      " [-8.28708184]\n",
      " [-8.28696788]\n",
      " [-8.28702508]]\n"
     ]
    },
    {
     "name": "stderr",
     "output_type": "stream",
     "text": [
      "\r",
      "Forecasting from Training Cold Start Data - Fold 4:  30%|█████████▎                     | 9/30 [00:13<00:32,  1.57s/it]"
     ]
    },
    {
     "name": "stdout",
     "output_type": "stream",
     "text": [
      "[[-1.36002565]\n",
      " [-1.35998651]\n",
      " [-1.35995749]\n",
      " [-1.35998456]\n",
      " [-1.35995846]\n",
      " [-1.35999236]\n",
      " [-1.35996409]\n",
      " [-1.35985363]\n",
      " [-1.35986165]\n",
      " [-1.35989697]\n",
      " [-1.3598993 ]\n",
      " [-1.35984943]\n",
      " [-1.35987058]\n",
      " [-1.35982701]\n",
      " [-1.35984111]\n",
      " [-1.35988475]\n",
      " [-1.35985581]\n",
      " [-1.35983203]\n",
      " [-1.35987283]\n",
      " [-1.35988378]\n",
      " [-1.35990117]\n",
      " [-1.35994744]\n",
      " [-1.35995381]\n",
      " [-1.35999303]]\n"
     ]
    },
    {
     "name": "stderr",
     "output_type": "stream",
     "text": [
      "\r",
      "Forecasting from Training Cold Start Data - Fold 4:  33%|██████████                    | 10/30 [00:15<00:31,  1.60s/it]"
     ]
    },
    {
     "name": "stdout",
     "output_type": "stream",
     "text": [
      "[[-1.03943932]\n",
      " [-1.03943942]\n",
      " [-1.03943913]\n",
      " [-1.03943917]\n",
      " [-1.03943916]\n",
      " [-1.0394391 ]\n",
      " [-1.0394404 ]\n",
      " [-1.03944088]\n",
      " [-1.03944186]\n",
      " [-1.03943899]\n",
      " [-1.03943854]\n",
      " [-1.03943813]\n",
      " [-1.03943992]\n",
      " [-1.0394407 ]\n",
      " [-1.03943939]\n",
      " [-1.03943864]\n",
      " [-1.03943689]\n",
      " [-1.03943755]\n",
      " [-1.03943899]\n",
      " [-1.03943964]\n",
      " [-1.03943983]\n",
      " [-1.0394429 ]\n",
      " [-1.03944307]\n",
      " [-1.03944305]]\n"
     ]
    },
    {
     "name": "stderr",
     "output_type": "stream",
     "text": [
      "\r",
      "Forecasting from Training Cold Start Data - Fold 4:  37%|███████████                   | 11/30 [00:16<00:28,  1.51s/it]"
     ]
    },
    {
     "name": "stdout",
     "output_type": "stream",
     "text": [
      "[[-1.41773214]\n",
      " [-1.41773152]\n",
      " [-1.41773168]\n",
      " [-1.41773216]\n",
      " [-1.41773082]\n",
      " [-1.41771448]\n",
      " [-1.41770801]\n",
      " [-1.4177101 ]\n",
      " [-1.41770477]\n",
      " [-1.41770387]\n",
      " [-1.4177073 ]\n",
      " [-1.41770934]\n",
      " [-1.41771031]\n",
      " [-1.41771253]\n",
      " [-1.41771266]\n",
      " [-1.41771287]\n",
      " [-1.41771022]\n",
      " [-1.41770492]\n",
      " [-1.41770841]\n",
      " [-1.41771717]\n",
      " [-1.41772077]\n",
      " [-1.41773042]\n",
      " [-1.41773193]\n",
      " [-1.41773231]]\n"
     ]
    },
    {
     "name": "stderr",
     "output_type": "stream",
     "text": [
      "\r",
      "Forecasting from Training Cold Start Data - Fold 4:  40%|████████████                  | 12/30 [00:18<00:26,  1.48s/it]"
     ]
    },
    {
     "name": "stdout",
     "output_type": "stream",
     "text": [
      "[[-1.80289371]\n",
      " [-1.8028941 ]\n",
      " [-1.80289423]\n",
      " [-1.80289389]\n",
      " [-1.80289409]\n",
      " [-1.80289221]\n",
      " [-1.80288932]\n",
      " [-1.80288885]\n",
      " [-1.80288816]\n",
      " [-1.80288907]\n",
      " [-1.80288916]\n",
      " [-1.80288973]\n",
      " [-1.80288972]\n",
      " [-1.80289015]\n",
      " [-1.80289111]\n",
      " [-1.80289172]\n",
      " [-1.80289253]\n",
      " [-1.8028948 ]\n",
      " [-1.80289468]\n",
      " [-1.80289443]\n",
      " [-1.80289527]\n",
      " [-1.80289533]\n",
      " [-1.80289507]\n",
      " [-1.80289583]]\n"
     ]
    },
    {
     "name": "stderr",
     "output_type": "stream",
     "text": [
      "\r",
      "Forecasting from Training Cold Start Data - Fold 4:  43%|█████████████                 | 13/30 [00:19<00:24,  1.45s/it]"
     ]
    },
    {
     "name": "stdout",
     "output_type": "stream",
     "text": [
      "[[-3.12063111]\n",
      " [-3.12062549]\n",
      " [-3.12062833]\n",
      " [-3.12062289]\n",
      " [-3.12062488]\n",
      " [-3.12062494]\n",
      " [-3.1206283 ]\n",
      " [-3.12062264]\n",
      " [-3.12062882]\n",
      " [-3.12062858]\n",
      " [-3.12062532]\n",
      " [-3.12062434]\n",
      " [-3.12061989]\n",
      " [-3.12062156]\n",
      " [-3.12061979]\n",
      " [-3.1206179 ]\n",
      " [-3.12062091]\n",
      " [-3.12061716]\n",
      " [-3.12061939]\n",
      " [-3.12061438]\n",
      " [-3.12061307]\n",
      " [-3.12062061]\n",
      " [-3.12062785]\n",
      " [-3.12062766]]\n"
     ]
    },
    {
     "name": "stderr",
     "output_type": "stream",
     "text": [
      "\r",
      "Forecasting from Training Cold Start Data - Fold 4:  47%|██████████████                | 14/30 [00:20<00:22,  1.43s/it]"
     ]
    },
    {
     "name": "stdout",
     "output_type": "stream",
     "text": [
      "[[-1.04581949]\n",
      " [-1.04581949]\n",
      " [-1.04581949]\n",
      " [-1.04581949]\n",
      " [-1.04581949]\n",
      " [-1.04581959]\n",
      " [-1.04577747]\n",
      " [-1.04577747]\n",
      " [-1.04577584]\n",
      " [-1.04563305]\n",
      " [-1.04577574]\n",
      " [-1.04577502]\n",
      " [-1.04577543]\n",
      " [-1.04577492]\n",
      " [-1.04577635]\n",
      " [-1.04577574]\n",
      " [-1.04577645]\n",
      " [-1.04575809]\n",
      " [-1.04576778]\n",
      " [-1.04577523]\n",
      " [-1.04577614]\n",
      " [-1.04577584]\n",
      " [-1.04582031]\n",
      " [-1.0458202 ]]\n"
     ]
    },
    {
     "name": "stderr",
     "output_type": "stream",
     "text": [
      "\r",
      "Forecasting from Training Cold Start Data - Fold 4:  50%|███████████████               | 15/30 [00:22<00:21,  1.40s/it]"
     ]
    },
    {
     "name": "stdout",
     "output_type": "stream",
     "text": [
      "[[-1.15674867]\n",
      " [-1.15674867]\n",
      " [-1.15674864]\n",
      " [-1.15674888]\n",
      " [-1.15674887]\n",
      " [-1.15674887]\n",
      " [-1.15674889]\n",
      " [-1.15674885]\n",
      " [-1.15674135]\n",
      " [-1.15673297]\n",
      " [-1.1567326 ]\n",
      " [-1.15673326]\n",
      " [-1.15673229]\n",
      " [-1.15673272]\n",
      " [-1.15673311]\n",
      " [-1.15673267]\n",
      " [-1.15673276]\n",
      " [-1.15673243]\n",
      " [-1.15673271]\n",
      " [-1.15673321]\n",
      " [-1.15672685]\n",
      " [-1.15674767]\n",
      " [-1.15674769]\n",
      " [-1.15674768]]\n"
     ]
    },
    {
     "name": "stderr",
     "output_type": "stream",
     "text": [
      "\r",
      "Forecasting from Training Cold Start Data - Fold 4:  53%|████████████████              | 16/30 [00:23<00:19,  1.37s/it]"
     ]
    },
    {
     "name": "stdout",
     "output_type": "stream",
     "text": [
      "[[-1.41362812]\n",
      " [-1.4136283 ]\n",
      " [-1.41362875]\n",
      " [-1.41362838]\n",
      " [-1.41362855]\n",
      " [-1.41357232]\n",
      " [-1.41355483]\n",
      " [-1.41355735]\n",
      " [-1.4135454 ]\n",
      " [-1.41353021]\n",
      " [-1.41352612]\n",
      " [-1.41352584]\n",
      " [-1.41352821]\n",
      " [-1.41353473]\n",
      " [-1.41353378]\n",
      " [-1.41353207]\n",
      " [-1.41352316]\n",
      " [-1.41352327]\n",
      " [-1.41353438]\n",
      " [-1.41354416]\n",
      " [-1.41354674]\n",
      " [-1.41355104]\n",
      " [-1.41357127]\n",
      " [-1.41357985]]\n"
     ]
    },
    {
     "name": "stderr",
     "output_type": "stream",
     "text": [
      "\r",
      "Forecasting from Training Cold Start Data - Fold 4:  57%|█████████████████             | 17/30 [00:25<00:20,  1.55s/it]"
     ]
    },
    {
     "name": "stdout",
     "output_type": "stream",
     "text": [
      "[[-1.19289748]\n",
      " [-1.19290214]\n",
      " [-1.19290262]\n",
      " [-1.1928993 ]\n",
      " [-1.19287664]\n",
      " [-1.19289839]\n",
      " [-1.1928993 ]\n",
      " [-1.19290262]\n",
      " [-1.19287815]\n",
      " [-1.19255499]\n",
      " [-1.192616  ]\n",
      " [-1.19258066]\n",
      " [-1.19247707]\n",
      " [-1.19257613]\n",
      " [-1.19275523]\n",
      " [-1.19276399]\n",
      " [-1.19263956]\n",
      " [-1.19270842]\n",
      " [-1.19273258]\n",
      " [-1.19279208]\n",
      " [-1.19284161]\n",
      " [-1.19289748]\n",
      " [-1.19290141]\n",
      " [-1.1928996 ]]\n"
     ]
    },
    {
     "name": "stderr",
     "output_type": "stream",
     "text": [
      "\r",
      "Forecasting from Training Cold Start Data - Fold 4:  60%|██████████████████            | 18/30 [00:27<00:19,  1.63s/it]"
     ]
    },
    {
     "name": "stdout",
     "output_type": "stream",
     "text": [
      "[[-1.13792561]\n",
      " [-1.13792562]\n",
      " [-1.13792524]\n",
      " [-1.1379257 ]\n",
      " [-1.13792583]\n",
      " [-1.13792588]\n",
      " [-1.13792547]\n",
      " [-1.13792536]\n",
      " [-1.13787474]\n",
      " [-1.13786127]\n",
      " [-1.13786593]\n",
      " [-1.13786767]\n",
      " [-1.13786685]\n",
      " [-1.13786748]\n",
      " [-1.13786764]\n",
      " [-1.13786743]\n",
      " [-1.13786715]\n",
      " [-1.13786231]\n",
      " [-1.13786265]\n",
      " [-1.13786294]\n",
      " [-1.1378684 ]\n",
      " [-1.1379257 ]\n",
      " [-1.13792552]\n",
      " [-1.13792535]]\n"
     ]
    },
    {
     "name": "stderr",
     "output_type": "stream",
     "text": [
      "\r",
      "Forecasting from Training Cold Start Data - Fold 4:  63%|███████████████████           | 19/30 [00:28<00:17,  1.56s/it]"
     ]
    },
    {
     "name": "stdout",
     "output_type": "stream",
     "text": [
      "[[-2.36669384]\n",
      " [-2.36669546]\n",
      " [-2.3666965 ]\n",
      " [-2.36669569]\n",
      " [-2.36669446]\n",
      " [-2.36669439]\n",
      " [-2.36667804]\n",
      " [-2.36667637]\n",
      " [-2.36667613]\n",
      " [-2.36667764]\n",
      " [-2.36667895]\n",
      " [-2.36668807]\n",
      " [-2.36669093]\n",
      " [-2.36669166]\n",
      " [-2.36669293]\n",
      " [-2.36669277]\n",
      " [-2.36669239]\n",
      " [-2.3666948 ]\n",
      " [-2.36669493]\n",
      " [-2.36669503]\n",
      " [-2.36669567]\n",
      " [-2.36669385]\n",
      " [-2.3666952 ]\n",
      " [-2.36669087]]\n"
     ]
    },
    {
     "name": "stderr",
     "output_type": "stream",
     "text": [
      "\r",
      "Forecasting from Training Cold Start Data - Fold 4:  67%|████████████████████          | 20/30 [00:30<00:14,  1.49s/it]"
     ]
    },
    {
     "name": "stdout",
     "output_type": "stream",
     "text": [
      "[[-1.4679555 ]\n",
      " [-1.46794961]\n",
      " [-1.46795096]\n",
      " [-1.46794926]\n",
      " [-1.46794865]\n",
      " [-1.46794962]\n",
      " [-1.46795474]\n",
      " [-1.46790231]\n",
      " [-1.46789821]\n",
      " [-1.46789191]\n",
      " [-1.46788911]\n",
      " [-1.46788975]\n",
      " [-1.46792767]\n",
      " [-1.46794202]\n",
      " [-1.46792795]\n",
      " [-1.46788816]\n",
      " [-1.46788516]\n",
      " [-1.46788794]\n",
      " [-1.46789668]\n",
      " [-1.46790892]\n",
      " [-1.46794456]\n",
      " [-1.4679451 ]\n",
      " [-1.46794696]\n",
      " [-1.46795287]]\n"
     ]
    },
    {
     "name": "stderr",
     "output_type": "stream",
     "text": [
      "\r",
      "Forecasting from Training Cold Start Data - Fold 4:  70%|█████████████████████         | 21/30 [00:31<00:12,  1.43s/it]"
     ]
    },
    {
     "name": "stdout",
     "output_type": "stream",
     "text": [
      "[[-1.2217763 ]\n",
      " [-1.2217768 ]\n",
      " [-1.22177653]\n",
      " [-1.22177685]\n",
      " [-1.22177679]\n",
      " [-1.22178609]\n",
      " [-1.22169108]\n",
      " [-1.22173845]\n",
      " [-1.22167927]\n",
      " [-1.22164376]\n",
      " [-1.2216505 ]\n",
      " [-1.22165216]\n",
      " [-1.2216629 ]\n",
      " [-1.22167804]\n",
      " [-1.22167888]\n",
      " [-1.22166541]\n",
      " [-1.22163954]\n",
      " [-1.22164064]\n",
      " [-1.22164243]\n",
      " [-1.2217239 ]\n",
      " [-1.2217849 ]\n",
      " [-1.22173886]\n",
      " [-1.22173982]\n",
      " [-1.22174   ]]\n"
     ]
    },
    {
     "name": "stderr",
     "output_type": "stream",
     "text": [
      "\r",
      "Forecasting from Training Cold Start Data - Fold 4:  73%|██████████████████████        | 22/30 [00:32<00:11,  1.40s/it]"
     ]
    },
    {
     "name": "stdout",
     "output_type": "stream",
     "text": [
      "[[-2.36364787]\n",
      " [-2.363645  ]\n",
      " [-2.36364787]\n",
      " [-2.36364068]\n",
      " [-2.36364643]\n",
      " [-2.36364068]\n",
      " [-2.36364068]\n",
      " [-2.36363205]\n",
      " [-2.36362773]\n",
      " [-2.36362773]\n",
      " [-2.36362485]\n",
      " [-2.36362629]\n",
      " [-2.36362773]\n",
      " [-2.36362917]\n",
      " [-2.36362629]\n",
      " [-2.36362773]\n",
      " [-2.36362773]\n",
      " [-2.36363492]\n",
      " [-2.36363636]\n",
      " [-2.36363924]\n",
      " [-2.36364068]\n",
      " [-2.3636378 ]\n",
      " [-2.36363924]\n",
      " [-2.36363924]]\n"
     ]
    },
    {
     "name": "stderr",
     "output_type": "stream",
     "text": [
      "\r",
      "Forecasting from Training Cold Start Data - Fold 4:  77%|███████████████████████       | 23/30 [00:34<00:09,  1.41s/it]"
     ]
    },
    {
     "name": "stdout",
     "output_type": "stream",
     "text": [
      "[[-1.7103914 ]\n",
      " [-1.71039103]\n",
      " [-1.71039107]\n",
      " [-1.71039088]\n",
      " [-1.71039118]\n",
      " [-1.71038632]\n",
      " [-1.71038453]\n",
      " [-1.71038212]\n",
      " [-1.71038168]\n",
      " [-1.7103788 ]\n",
      " [-1.71037761]\n",
      " [-1.71038084]\n",
      " [-1.71037912]\n",
      " [-1.71037918]\n",
      " [-1.71038174]\n",
      " [-1.71038338]\n",
      " [-1.71038427]\n",
      " [-1.71038921]\n",
      " [-1.71038974]\n",
      " [-1.71039057]\n",
      " [-1.7103898 ]\n",
      " [-1.71038969]\n",
      " [-1.71039059]\n",
      " [-1.71039102]]\n"
     ]
    },
    {
     "name": "stderr",
     "output_type": "stream",
     "text": [
      "\r",
      "Forecasting from Training Cold Start Data - Fold 4:  80%|████████████████████████      | 24/30 [00:35<00:08,  1.41s/it]"
     ]
    },
    {
     "name": "stdout",
     "output_type": "stream",
     "text": [
      "[[-1.66529984]\n",
      " [-1.66530037]\n",
      " [-1.66530211]\n",
      " [-1.66530037]\n",
      " [-1.66530056]\n",
      " [-1.66529423]\n",
      " [-1.66528913]\n",
      " [-1.6652847 ]\n",
      " [-1.66527567]\n",
      " [-1.66527988]\n",
      " [-1.66528185]\n",
      " [-1.66527933]\n",
      " [-1.66527905]\n",
      " [-1.66527909]\n",
      " [-1.66528194]\n",
      " [-1.66527936]\n",
      " [-1.66527782]\n",
      " [-1.6652797 ]\n",
      " [-1.66527953]\n",
      " [-1.66528185]\n",
      " [-1.66528353]\n",
      " [-1.66529827]\n",
      " [-1.66529908]\n",
      " [-1.66530072]]\n"
     ]
    },
    {
     "name": "stderr",
     "output_type": "stream",
     "text": [
      "\r",
      "Forecasting from Training Cold Start Data - Fold 4:  83%|█████████████████████████     | 25/30 [00:37<00:07,  1.45s/it]"
     ]
    },
    {
     "name": "stdout",
     "output_type": "stream",
     "text": [
      "[[-2.21117648]\n",
      " [-2.2111774 ]\n",
      " [-2.21117701]\n",
      " [-2.21117842]\n",
      " [-2.21117697]\n",
      " [-2.21117612]\n",
      " [-2.21116579]\n",
      " [-2.21116358]\n",
      " [-2.21116108]\n",
      " [-2.21116025]\n",
      " [-2.21116424]\n",
      " [-2.211165  ]\n",
      " [-2.21116141]\n",
      " [-2.21116614]\n",
      " [-2.21116884]\n",
      " [-2.21116994]\n",
      " [-2.21116967]\n",
      " [-2.21117241]\n",
      " [-2.21117393]\n",
      " [-2.21117534]\n",
      " [-2.21117517]\n",
      " [-2.21117488]\n",
      " [-2.21117613]\n",
      " [-2.21117718]]\n"
     ]
    },
    {
     "name": "stderr",
     "output_type": "stream",
     "text": [
      "\r",
      "Forecasting from Training Cold Start Data - Fold 4:  87%|██████████████████████████    | 26/30 [00:38<00:05,  1.41s/it]"
     ]
    },
    {
     "name": "stdout",
     "output_type": "stream",
     "text": [
      "[[-1.45661931]\n",
      " [-1.45661979]\n",
      " [-1.4566215 ]\n",
      " [-1.45662223]\n",
      " [-1.45662241]\n",
      " [-1.45662258]\n",
      " [-1.45662066]\n",
      " [-1.45662045]\n",
      " [-1.4566187 ]\n",
      " [-1.45661791]\n",
      " [-1.45661795]\n",
      " [-1.45661775]\n",
      " [-1.45661859]\n",
      " [-1.4566187 ]\n",
      " [-1.45661819]\n",
      " [-1.45661802]\n",
      " [-1.45661842]\n",
      " [-1.4566186 ]\n",
      " [-1.45661853]\n",
      " [-1.45661822]\n",
      " [-1.4566176 ]\n",
      " [-1.45661772]\n",
      " [-1.45661859]\n",
      " [-1.45661904]]\n"
     ]
    },
    {
     "name": "stderr",
     "output_type": "stream",
     "text": [
      "\r",
      "Forecasting from Training Cold Start Data - Fold 4:  90%|███████████████████████████   | 27/30 [00:39<00:04,  1.39s/it]"
     ]
    },
    {
     "name": "stdout",
     "output_type": "stream",
     "text": [
      "[[-2.29441874]\n",
      " [-2.29442089]\n",
      " [-2.29442104]\n",
      " [-2.29442108]\n",
      " [-2.29442082]\n",
      " [-2.2944219 ]\n",
      " [-2.29442277]\n",
      " [-2.29442244]\n",
      " [-2.294422  ]\n",
      " [-2.29442006]\n",
      " [-2.29441793]\n",
      " [-2.29441554]\n",
      " [-2.2944174 ]\n",
      " [-2.29441768]\n",
      " [-2.29441814]\n",
      " [-2.29441935]\n",
      " [-2.29441887]\n",
      " [-2.29441758]\n",
      " [-2.29441755]\n",
      " [-2.29441816]\n",
      " [-2.29441871]\n",
      " [-2.29441797]\n",
      " [-2.29441789]\n",
      " [-2.2944205 ]]\n"
     ]
    },
    {
     "name": "stderr",
     "output_type": "stream",
     "text": [
      "\r",
      "Forecasting from Training Cold Start Data - Fold 4:  93%|████████████████████████████  | 28/30 [00:42<00:03,  1.69s/it]"
     ]
    },
    {
     "name": "stdout",
     "output_type": "stream",
     "text": [
      "[[-1.6625403 ]\n",
      " [-1.66253996]\n",
      " [-1.66253984]\n",
      " [-1.66254018]\n",
      " [-1.66254046]\n",
      " [-1.66254051]\n",
      " [-1.66252563]\n",
      " [-1.66251873]\n",
      " [-1.66251606]\n",
      " [-1.66251367]\n",
      " [-1.66251913]\n",
      " [-1.66252236]\n",
      " [-1.66252276]\n",
      " [-1.66252412]\n",
      " [-1.66252392]\n",
      " [-1.66252279]\n",
      " [-1.6625223 ]\n",
      " [-1.66252015]\n",
      " [-1.6625192 ]\n",
      " [-1.66251865]\n",
      " [-1.66252487]\n",
      " [-1.66253747]\n",
      " [-1.66253677]\n",
      " [-1.66253746]]\n"
     ]
    },
    {
     "name": "stderr",
     "output_type": "stream",
     "text": [
      "\r",
      "Forecasting from Training Cold Start Data - Fold 4:  97%|█████████████████████████████ | 29/30 [00:43<00:01,  1.68s/it]"
     ]
    },
    {
     "name": "stdout",
     "output_type": "stream",
     "text": [
      "[[-1.11793811]\n",
      " [-1.11794403]\n",
      " [-1.11794382]\n",
      " [-1.11794458]\n",
      " [-1.11794428]\n",
      " [-1.11794445]\n",
      " [-1.11794441]\n",
      " [-1.11794437]\n",
      " [-1.11794093]\n",
      " [-1.1179191 ]\n",
      " [-1.11792074]\n",
      " [-1.1179217 ]\n",
      " [-1.11792086]\n",
      " [-1.11792145]\n",
      " [-1.11791994]\n",
      " [-1.11791851]\n",
      " [-1.11792015]\n",
      " [-1.11788431]\n",
      " [-1.11789497]\n",
      " [-1.11785232]\n",
      " [-1.1178449 ]\n",
      " [-1.11792124]\n",
      " [-1.11793417]\n",
      " [-1.11793396]]\n"
     ]
    },
    {
     "name": "stderr",
     "output_type": "stream",
     "text": [
      "Forecasting from Training Cold Start Data - Fold 4: 100%|██████████████████████████████| 30/30 [00:45<00:00,  1.59s/it]\n"
     ]
    }
   ],
   "source": [
    " my_test_predictions = get_base_model_predictions(model, test_cold_start_data, my_test_predictions, desc=f\"Forecasting from Training Cold Start Data - Fold {fold_num}\")    "
   ]
  },
  {
   "cell_type": "code",
   "execution_count": 50,
   "metadata": {},
   "outputs": [
    {
     "name": "stdout",
     "output_type": "stream",
     "text": [
      "[[ 0.69526687  0.45343108  0.15580382  0.38386193  0.7107313   0.38781565\n",
      "   0.84662046  0.81854201  0.77314714  0.93830505  0.46006457  0.08628216\n",
      "   0.043596    0.68453984  0.41614401  0.17837524  0.38305887  0.26613085\n",
      "   0.29869747  0.90025491  0.87572807  0.49391544  0.66586234  0.6130743 ]\n",
      " [ 1.19526687  0.95343108  0.65580382  0.88386193  1.2107313   0.88781565\n",
      "   1.34662046  1.31854201  1.27314714  1.43830505  0.96006457  0.58628216\n",
      "   0.543596    1.18453984  0.91614401  0.67837524  0.88305887  0.76613085\n",
      "   0.79869747  1.40025491  1.37572807  0.99391544  1.16586234  1.1130743 ]] (2, 24)\n"
     ]
    }
   ],
   "source": [
    "a = np.array([np.random.random() for i in range(24)])\n",
    "av = np.vstack([a,a+0.5])\n",
    "print(av,av.shape)"
   ]
  },
  {
   "cell_type": "code",
   "execution_count": 57,
   "metadata": {},
   "outputs": [
    {
     "name": "stdout",
     "output_type": "stream",
     "text": [
      "(1, 2, 24)\n"
     ]
    }
   ],
   "source": [
    "av=np.array([av])\n",
    "print(av.shape)"
   ]
  },
  {
   "cell_type": "code",
   "execution_count": 66,
   "metadata": {},
   "outputs": [
    {
     "data": {
      "text/plain": [
       "array([[ 0.3579101]], dtype=float32)"
      ]
     },
     "execution_count": 66,
     "metadata": {},
     "output_type": "execute_result"
    }
   ],
   "source": [
    "model.predict(av, batch_size=1)"
   ]
  },
  {
   "cell_type": "markdown",
   "metadata": {},
   "source": [
    "# Model 2"
   ]
  },
  {
   "cell_type": "markdown",
   "metadata": {},
   "source": [
    "https://stackoverflow.com/questions/51720236/multi-feature-sequence-padding-and-masking-in-rnn-using-keras"
   ]
  },
  {
   "cell_type": "markdown",
   "metadata": {},
   "source": [
    "https://datascience.stackexchange.com/questions/26366/training-an-rnn-with-examples-of-different-lengths-in-keras"
   ]
  }
 ],
 "metadata": {
  "kernelspec": {
   "display_name": "Python 3",
   "language": "python",
   "name": "python3"
  },
  "language_info": {
   "codemirror_mode": {
    "name": "ipython",
    "version": 3
   },
   "file_extension": ".py",
   "mimetype": "text/x-python",
   "name": "python",
   "nbconvert_exporter": "python",
   "pygments_lexer": "ipython3",
   "version": "3.6.4"
  }
 },
 "nbformat": 4,
 "nbformat_minor": 2
}
